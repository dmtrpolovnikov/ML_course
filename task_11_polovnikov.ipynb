{
 "cells": [
  {
   "cell_type": "code",
   "execution_count": 1,
   "id": "646bebb8",
   "metadata": {
    "tags": []
   },
   "outputs": [],
   "source": [
    "import os\n",
    "import sys\n",
    "import random\n",
    "import numpy as np\n",
    "import pandas as pd\n",
    "import seaborn as sns\n",
    "\n",
    "from stochastic.processes.diffusion import VasicekProcess\n",
    "\n",
    "from IPython.display import clear_output\n",
    "\n",
    "import matplotlib.pyplot as plt\n",
    "%matplotlib inline"
   ]
  },
  {
   "cell_type": "code",
   "execution_count": 2,
   "id": "5f37f014",
   "metadata": {
    "tags": []
   },
   "outputs": [],
   "source": [
    "OU_SPEED = 1\n",
    "OU_MEAN = 100\n",
    "OU_VOL = 2\n",
    "\n",
    "OU_PRICE_STEP = 0.1\n",
    "OU_PRICE_MAX_DEV = 8\n",
    "\n",
    "TRAIN_HISTORY_LEN = 5_000_000\n",
    "VAL_HISTORY_LEN = 100_000\n",
    "TEST_HISTORY_LEN = 200_000\n",
    "EPISODE_LEN = 10192\n",
    "\n",
    "MAX_HOLDING = 3\n",
    "\n",
    "EXPLORATION_EPSILON = 0.1\n",
    "\n",
    "TD_N_EPOCHS = 10000\n",
    "# TD_N_EPISODES = 25 # HOMEWORK\n",
    "TD_GAMMA = 0.9 # REWARDS DISCOUNT FACTOR\n",
    "TD_LR = 0.01"
   ]
  },
  {
   "cell_type": "markdown",
   "id": "f24e08ed",
   "metadata": {},
   "source": [
    "---"
   ]
  },
  {
   "cell_type": "markdown",
   "id": "b8117d5e",
   "metadata": {},
   "source": [
    "# Data preparation: create a format compatible with RL environment"
   ]
  },
  {
   "cell_type": "code",
   "execution_count": 3,
   "id": "0aae00fc",
   "metadata": {
    "tags": []
   },
   "outputs": [],
   "source": [
    "class OUDataProvider:\n",
    "    def __init__(self,speed,mean,vol,price_step,price_max_dev,history_len,episode_len):\n",
    "        self.speed = speed\n",
    "        self.mean = mean\n",
    "        self.vol = vol\n",
    "        self.price_step = price_step\n",
    "        self.price_max_dev = price_max_dev\n",
    "        self.history_len = history_len\n",
    "        self.episode_len = episode_len\n",
    "        \n",
    "        vp = VasicekProcess(speed=self.speed,mean=self.mean,vol=self.vol,t=episode_len)\n",
    "        self.history = pd.Series(vp.sample(self.history_len,self.mean),vp.times(self.history_len)).to_frame('price')\n",
    "        self.history['level'] = (((self.history['price']-self.mean)/self.price_step).round()).astype(int).clip(-self.price_max_dev,self.price_max_dev)\n",
    "    \n",
    "    def __len__(self):\n",
    "        return self.history_len - self.episode_len + 1\n",
    "    \n",
    "    def __getitem__(self,i):\n",
    "        return self.history.iloc[i:i+self.episode_len]\n",
    "    \n",
    "    def price_to_level(self,price):\n",
    "        price_level = int(np.round((price-self.mean)/self.price_step))\n",
    "        return -self.price_max_dev if price_level < -self.price_max_dev else self.price_max_dev if price_level > self.price_max_dev else price_level"
   ]
  },
  {
   "cell_type": "markdown",
   "id": "72e749be",
   "metadata": {},
   "source": [
    "---"
   ]
  },
  {
   "cell_type": "markdown",
   "id": "c4e02869",
   "metadata": {},
   "source": [
    "# RL Environment"
   ]
  },
  {
   "cell_type": "code",
   "execution_count": 4,
   "id": "cac208e4",
   "metadata": {
    "tags": []
   },
   "outputs": [],
   "source": [
    "class Agent:\n",
    "    def __init__(self,max_holding,transaction_fee:float=0):\n",
    "        self.max_holding = max_holding\n",
    "        self.transaction_fee = transaction_fee\n",
    "        \n",
    "        self.possible_holdings = list(range(-self.max_holding,1+self.max_holding))\n",
    "        self.n_states = len(self.possible_holdings)\n",
    "        \n",
    "        self.reset()\n",
    "    \n",
    "    def reset(self,holding=None):\n",
    "        self.holding = holding or 0\n",
    "        self.cash = 0.\n",
    "        self.price = None\n",
    "        \n",
    "        self.track = list() # here we put all history of agent's activity\n",
    "    \n",
    "    def value(self):\n",
    "        return self.cash + self.holding * self.price\n",
    "    \n",
    "    def holding_to_state(self,holding):\n",
    "        return holding + self.max_holding\n",
    "    \n",
    "    def state_to_holding(self,state):\n",
    "        return state - self.max_holding\n",
    "    \n",
    "    def is_action_available(self,quantity:int):\n",
    "        return self.holding + quantity <= self.max_holding and self.holding + quantity >= -self.max_holding\n",
    "    \n",
    "    def act(self,price:float,quantity:int):\n",
    "        \"\"\"\n",
    "        execute a trade by `price` in amount of `quantity`\n",
    "        \"\"\"\n",
    "        \n",
    "        holding = self.holding\n",
    "        \n",
    "        if abs(quantity):\n",
    "            transaction_cost = price * abs(quantity) * self.transaction_fee\n",
    "            current_reward = self.holding * (price-self.price) if self.price is not None else 0.\n",
    "            current_reward -= transaction_cost\n",
    "\n",
    "            self.holding += quantity\n",
    "            self.cash -= price * quantity + transaction_cost\n",
    "        else:\n",
    "            current_reward = 0.\n",
    "            \n",
    "        self.price = price # refresh agent's information about current price\n",
    "        \n",
    "        self.track.append( (holding,price,quantity,current_reward,self.value()) )"
   ]
  },
  {
   "cell_type": "code",
   "execution_count": 5,
   "id": "285716e3",
   "metadata": {
    "tags": []
   },
   "outputs": [],
   "source": [
    "class Episode:\n",
    "    def __init__(self,data):\n",
    "        self.data = data\n",
    "        self.reset()\n",
    "    \n",
    "    def reset(self):\n",
    "        self.t = 0\n",
    "    \n",
    "    def item(self):\n",
    "        return self.data.iloc[self.t]\n",
    "    \n",
    "    def price(self):\n",
    "        return self.item().price\n",
    "    \n",
    "    def level(self):\n",
    "        return int(self.item().level)\n",
    "    \n",
    "    def finished(self):\n",
    "        return self.t + 1 >= self.data.shape[0]\n",
    "    \n",
    "    def next(self):\n",
    "        if self.finished():\n",
    "            return False\n",
    "        else:\n",
    "            self.t += 1\n",
    "            return True\n",
    "\n",
    "class Market:\n",
    "    def __init__(self,data_provider:OUDataProvider):\n",
    "        self.data_provider = data_provider\n",
    "        \n",
    "        self.possible_levels = list(range(-self.data_provider.price_max_dev,1+self.data_provider.price_max_dev))\n",
    "        self.n_states = len(self.possible_levels)\n",
    "        \n",
    "    def level_to_state(self,level):\n",
    "        return level + self.data_provider.price_max_dev\n",
    "    \n",
    "    def state_to_level(self,state):\n",
    "        return state - self.data_provider.price_max_dev\n",
    "        \n",
    "    def price_to_state(self,price):\n",
    "        return self.level_to_state(self.data_provider.price_to_level(price))\n",
    "    \n",
    "    def n_episodes(self):\n",
    "        return len(self.data_provider)\n",
    "    \n",
    "    def init_episode(self,i=None): # if i is None, then we take random episode\n",
    "        if i is None:\n",
    "            i = random.randint(0,len(self.data_provider))\n",
    "        return Episode(self.data_provider[i])"
   ]
  },
  {
   "cell_type": "code",
   "execution_count": 6,
   "id": "c82e0dec",
   "metadata": {
    "tags": []
   },
   "outputs": [],
   "source": [
    "class Model:\n",
    "    def __init__(self,market:Market,agent:Agent):\n",
    "        self.market = market\n",
    "        self.agent = agent\n",
    "        \n",
    "        self.n_price_levels = self.market.n_states\n",
    "        self.n_holding_levels = self.agent.n_states\n",
    "        self.n_states = self.n_price_levels * self.n_holding_levels\n",
    "\n",
    "        # all possible actions of agent in the existing framework ranges from\n",
    "        # selling 6 units\n",
    "        # to\n",
    "        # buying 6 units\n",
    "        # (this makes up 13 options in our example)\n",
    "        # however, at any given point not all of these actions are eligible\n",
    "        \n",
    "        self.possible_quantities = list(range(-2*self.agent.max_holding,1+2*self.agent.max_holding))\n",
    "        self.n_actions = len(self.possible_quantities)\n",
    "        # action indexed 0 - sell 6 units\n",
    "        # ...\n",
    "        # action indexed 12 - buy 6 units\n",
    "    \n",
    "    def state_2d_to_1d(self,price_level,holding):\n",
    "        market_state = self.market.level_to_state(price_level)\n",
    "        holding_state = self.agent.holding_to_state(holding)\n",
    "        return market_state * self.n_holding_levels + holding_state\n",
    "    \n",
    "    def state_1d_to_2d(self,state):\n",
    "        market_state = state // self.n_holding_levels\n",
    "        price_level = self.market.state_to_level(market_state)\n",
    "        \n",
    "        holding_state = state % self.n_holding_levels\n",
    "        holding = self.agent.state_to_holding(holding_state)\n",
    "        \n",
    "        return (price_level,holding)\n",
    "    \n",
    "    def quantity_to_action(self,quantity):\n",
    "        return quantity + 2*self.agent.max_holding\n",
    "    \n",
    "    def action_to_quantity(self,action):\n",
    "        return action - 2*self.agent.max_holding\n",
    "    \n",
    "    def eligible_actions(self,state):\n",
    "        price_level,holding = self.state_1d_to_2d(state)\n",
    "        min_quantity = -self.agent.max_holding - holding\n",
    "        max_quantity = self.agent.max_holding - holding\n",
    "        return [self.quantity_to_action(quantity) for quantity in range(min_quantity,1+max_quantity)]\n",
    "    \n",
    "    def generate_Q(self):\n",
    "        Q = np.array([np.isin(np.arange(self.n_actions),self.eligible_actions(state)).astype(float) for state in range(self.n_states)])\n",
    "        return np.where(Q==1,0,np.nan)"
   ]
  },
  {
   "cell_type": "code",
   "execution_count": 7,
   "id": "c7a25169",
   "metadata": {
    "tags": []
   },
   "outputs": [],
   "source": [
    "class Policy:\n",
    "    def __init__(self,model,Q):\n",
    "        self.model = model\n",
    "        self.Q = Q\n",
    "    \n",
    "    def random_action(self,state):\n",
    "        eligible_actions = np.where(np.isfinite(self.Q[state]))[0]\n",
    "        return random.choice(eligible_actions)\n",
    "    \n",
    "    def best_action(self,state):\n",
    "        q = self.Q[state]\n",
    "        eligible_actions = np.where(np.isfinite(q))[0]\n",
    "        q = q[eligible_actions]\n",
    "        argmax = np.where(q==q.max())[0]\n",
    "        return eligible_actions[random.choice(argmax)]\n",
    "    \n",
    "    def epsilon_greedy_action(self,state,epsilon):\n",
    "        if random.uniform(0,1) < epsilon:\n",
    "            return self.random_action(state)\n",
    "        else:\n",
    "            return self.best_action(state)\n",
    "    \n",
    "    def evaluate(self,episode): # evaluate episode\n",
    "        self.model.agent.reset()\n",
    "        episode.reset()\n",
    "        \n",
    "        while not episode.finished():\n",
    "            state = self.model.state_2d_to_1d(episode.level(),self.model.agent.holding) # read current state of model\n",
    "            action = self.best_action(state) # determine best action from given model state\n",
    "            quantity = self.model.action_to_quantity(action) # determine amount of asset we need to execute on the market\n",
    "            self.model.agent.act(episode.price(),quantity) # send order\n",
    "            \n",
    "            episode.next()\n",
    "        \n",
    "        return pd.DataFrame(self.model.agent.track,columns=['holding','price','quantity','reward','value'])\n",
    "    \n",
    "    def run(self,episode,epsilon,holding=None): # episode run\n",
    "        states,actions = list(),list()\n",
    "        \n",
    "        self.model.agent.reset(holding or random.randint(-self.model.agent.max_holding,self.model.agent.max_holding))\n",
    "        episode.reset()\n",
    "        while not episode.finished():\n",
    "            state = self.model.state_2d_to_1d(episode.level(),self.model.agent.holding) # read current state of model\n",
    "            states.append(state)\n",
    "            \n",
    "            action = self.epsilon_greedy_action(state,epsilon)\n",
    "            actions.append(action)\n",
    "            \n",
    "            quantity = self.model.action_to_quantity(action)\n",
    "            self.model.agent.act(episode.price(),quantity)\n",
    "            \n",
    "            episode.next()\n",
    "        \n",
    "        rewards = [item[3] for item in self.model.agent.track]\n",
    "        \n",
    "        return pd.DataFrame({\n",
    "            'state' : states,\n",
    "            'action' : actions,\n",
    "            'reward' : rewards\n",
    "        })"
   ]
  },
  {
   "cell_type": "markdown",
   "id": "770ee225",
   "metadata": {},
   "source": [
    "---"
   ]
  },
  {
   "cell_type": "code",
   "execution_count": 8,
   "id": "3a101b12",
   "metadata": {
    "tags": []
   },
   "outputs": [],
   "source": [
    "train_data = OUDataProvider(\n",
    "    speed = OU_SPEED,\n",
    "    mean = OU_MEAN,\n",
    "    vol = OU_VOL,\n",
    "    price_step = OU_PRICE_STEP,\n",
    "    price_max_dev = OU_PRICE_MAX_DEV,\n",
    "    history_len = TRAIN_HISTORY_LEN,\n",
    "    episode_len = EPISODE_LEN,\n",
    ")\n",
    "\n",
    "val_data = OUDataProvider(\n",
    "    speed = OU_SPEED,\n",
    "    mean = OU_MEAN,\n",
    "    vol = OU_VOL,\n",
    "    price_step = OU_PRICE_STEP,\n",
    "    price_max_dev = OU_PRICE_MAX_DEV,\n",
    "    history_len = VAL_HISTORY_LEN,\n",
    "    episode_len = VAL_HISTORY_LEN,\n",
    ")\n",
    "\n",
    "test_data = OUDataProvider(\n",
    "    speed = OU_SPEED,\n",
    "    mean = OU_MEAN,\n",
    "    vol = OU_VOL,\n",
    "    price_step = OU_PRICE_STEP,\n",
    "    price_max_dev = OU_PRICE_MAX_DEV,\n",
    "    history_len = TEST_HISTORY_LEN,\n",
    "    episode_len = TEST_HISTORY_LEN,\n",
    ")"
   ]
  },
  {
   "cell_type": "code",
   "execution_count": 9,
   "id": "1a6dc84b",
   "metadata": {
    "tags": []
   },
   "outputs": [],
   "source": [
    "agent = Agent(MAX_HOLDING,transaction_fee=10e-4)\n",
    "\n",
    "test_model = Model(market=Market(test_data),agent=agent)\n",
    "test_P = Policy(test_model,Q)\n",
    "train_model = Model(market=Market(train_data),agent=agent)\n",
    "val_model = Model(market=Market(val_data),agent=agent)\n",
    "test_model = Model(market=Market(test_data),agent=agent)\n",
    "\n",
    "val_episode = val_model.market.init_episode(0)"
   ]
  },
  {
   "cell_type": "code",
   "execution_count": null,
   "id": "bfac6dc9",
   "metadata": {},
   "outputs": [],
   "source": [
    "\"\"\"\n",
    "Situation to consider\n",
    "\n",
    "initial_state -> (action) -> new_state => here we have 1-step reward (in our case it is pnl for one time unit)\n",
    "\n",
    "VALUE(inital_state) needs to be recalculated in the following way:\n",
    "\n",
    "VALUE(initial_state) := VALUE(initial_state) + lr * (REWARD(new_state) + gamma * VALUE(new_state) - VALUE(initial_state))\n",
    "by opening brackets we obtain\n",
    "VALUE(initial_state) := VALUE(initial_state) * (1-lr) + lr * (REWARD(new_state) + gamma * VALUE(new_state))\n",
    "\n",
    "\"\"\""
   ]
  },
  {
   "cell_type": "code",
   "execution_count": 10,
   "id": "1847c179",
   "metadata": {
    "tags": []
   },
   "outputs": [],
   "source": [
    "Q = train_model.generate_Q()"
   ]
  },
  {
   "cell_type": "code",
   "execution_count": 11,
   "id": "4e887a0d",
   "metadata": {
    "tags": []
   },
   "outputs": [],
   "source": [
    "train_P = Policy(train_model,Q)\n",
    "val_P = Policy(val_model,Q)"
   ]
  },
  {
   "cell_type": "markdown",
   "id": "6302eb19",
   "metadata": {},
   "source": [
    "Let's do one iteration"
   ]
  },
  {
   "cell_type": "code",
   "execution_count": 187,
   "id": "18a2d08a",
   "metadata": {},
   "outputs": [],
   "source": [
    "# our goal as for now to collect history of agent activity in the following way\n",
    "# (state,action,new_state,reward associated with this action)\n",
    "\n",
    "\"\"\"\n",
    "in our concrete example it should be the following list:\n",
    "[\n",
    "    (5,2,1,-0.375),\n",
    "    (1,9,4,-0.188),\n",
    "    (4,3,1,-0.396),\n",
    "    (1,5,0,-0.358)\n",
    "]\n",
    "\"\"\"\n",
    "\n",
    "activity = list(zip(run['state'],run['action'],run.shift(-1)['state'].fillna(0).astype(int),run.shift(-1)['reward']))[:-1]"
   ]
  },
  {
   "cell_type": "code",
   "execution_count": null,
   "id": "c7df554c",
   "metadata": {
    "tags": []
   },
   "outputs": [],
   "source": [
    "activity"
   ]
  },
  {
   "cell_type": "code",
   "execution_count": 189,
   "id": "097f2c76",
   "metadata": {},
   "outputs": [
    {
     "data": {
      "text/plain": [
       "'\\nexample : for the first item in the activity:\\n(5, 2, 1, -0.37457722969903673)\\n\\nQ[5,2] = (1-lr) * Q[5,2] + lr * (-0.375 + gamma * max(Q[1]))\\n'"
      ]
     },
     "execution_count": 189,
     "metadata": {},
     "output_type": "execute_result"
    }
   ],
   "source": [
    "# VALUE(initial_state) := VALUE(initial_state) * (1-lr) + lr * (REWARD(new_state) + gamma * VALUE(new_state))\n",
    "\n",
    "\"\"\"\n",
    "example : for the first item in the activity:\n",
    "(5, 2, 1, -0.37457722969903673)\n",
    "\n",
    "Q[5,2] = (1-lr) * Q[5,2] + lr * (-0.375 + gamma * max(Q[1]))\n",
    "\"\"\""
   ]
  },
  {
   "cell_type": "code",
   "execution_count": 190,
   "id": "4498d2b1",
   "metadata": {},
   "outputs": [],
   "source": [
    "# Comment from Chingis:\n",
    "# We may consider running this snipped several times (fixed number) so that we make a deeper propagation\n",
    "# But there is no sense to run it until Q stabilizes, because by doing this we overfit for a single episode, and after switching episode we need to recalibrate Q again\n",
    "\n",
    "for state_before,action,state_after,reward in activity:\n",
    "    Q[state_before,action] = (1-TD_LR) * Q[state_before,action] + TD_LR * (reward + TD_GAMMA * np.nanmax(Q[state_after]))"
   ]
  },
  {
   "cell_type": "code",
   "execution_count": null,
   "id": "40b32bcc",
   "metadata": {
    "tags": []
   },
   "outputs": [],
   "source": [
    "%%time\n",
    "# This comes from Monte-Carlo algorithm, modify it for TD\n",
    "\n",
    "MAX_HOLDING = 3\n",
    "EXPLORATION_EPSILON = 0.8\n",
    "TD_N_EPOCHS = 100\n",
    "TD_N_EPISODES = 25 # HOMEWORK\n",
    "TD_GAMMA = 0.9 # REWARDS DISCOUNT FACTOR\n",
    "TD_LR = 0.01\n",
    "\n",
    "# V = dict()\n",
    "\n",
    "val_pnl_history = list()\n",
    "for epoch in range(TD_N_EPOCHS):\n",
    "    # calculate value of each (state,action) cell\n",
    "    # first visit algorithm\n",
    "    \n",
    "    # a) <==================================#\n",
    "    train_episodes = list()\n",
    "    for i in range(TD_N_EPISODES):\n",
    "        train_episode = train_model.market.init_episode()\n",
    "        train_episodes.append(train_episode)\n",
    "        \n",
    "        run = train_P.run(train_episode,EXPLORATION_EPSILON/(i/10 + 1))\n",
    "        #========================#\n",
    "        \n",
    "        activity = list(zip(run['state'],run['action'],run.shift(-1)['state'].fillna(0).astype(int),run.shift(-1)['reward']))[:-1]\n",
    "        for state_before, action, state_after, reward in activity:\n",
    "            Q[state_before, action] = (1-TD_LR) * Q[state_before,action] + TD_LR * (reward + TD_GAMMA * np.nanmax(Q[state_after]))\n",
    "            \n",
    "        #========================#\n",
    "        \n",
    "#         for item in run[['state','action']].drop_duplicates().to_numpy():\n",
    "#             if tuple(item) not in V:\n",
    "#                 V[tuple(item)] = list()\n",
    "            \n",
    "#             t = run[(run.state==item[0])&(run.action==item[1])].iloc[0].name\n",
    "#             r = run.loc[t:].iloc[1:].reward.values\n",
    "#             f = np.power(MC_GAMMA,np.arange(0,r.size))\n",
    "            \n",
    "#             V[tuple(item)].append( (r*f).sum() )\n",
    "        \n",
    "#     # refresh values of Q\n",
    "#     for (state,action),vals in V.items():\n",
    "#         Q[state,action] = np.mean(vals)\n",
    "    \n",
    "    best_total_reward = None\n",
    "    best_evaluation = None\n",
    "    for train_episode in train_episodes:\n",
    "        train_evaluation = train_P.evaluate(train_episode)\n",
    "        current_total_reward = train_evaluation['reward'].sum()\n",
    "        if best_total_reward is None or current_total_reward > best_total_reward:\n",
    "            best_total_reward = current_total_reward\n",
    "            best_evaluation = train_evaluation\n",
    "    \n",
    "    val_evaluation = val_P.evaluate(val_episode)\n",
    "    \n",
    "    val_pnl_history.append(val_evaluation['reward'].sum())\n",
    "    \n",
    "    # plot\n",
    "    clear_output()\n",
    "    \n",
    "    fix,ax = plt.subplots(2,2,figsize=(25,8))\n",
    "    \n",
    "    ax[0,0].plot(best_evaluation['reward'].cumsum())\n",
    "    ax[0,0].set_title('Best training episode')\n",
    "    \n",
    "    ax[0,1].plot(val_evaluation['reward'].cumsum())\n",
    "    ax[0,1].set_title('Validation set')\n",
    "    \n",
    "    ax[1,0].plot(val_pnl_history)\n",
    "    ax[1,0].set_title('Validation PNL history')\n",
    "    ax[1,0].set_xlabel('Epoch #')\n",
    "    ax[1,0].set_ylabel('PNL')\n",
    "    \n",
    "    sns.heatmap(Q.T,ax=ax[1,1])\n",
    "    ax[1,1].invert_yaxis()\n",
    "    ax[1,1].set_title('Policy')\n",
    "    \n",
    "    plt.show()"
   ]
  },
  {
   "cell_type": "code",
   "execution_count": 20,
   "id": "96d2841f-cc9b-4266-ba3f-5e9210c5446a",
   "metadata": {
    "tags": []
   },
   "outputs": [
    {
     "data": {
      "text/plain": [
       "[<matplotlib.lines.Line2D at 0x7f73d564bd00>]"
      ]
     },
     "execution_count": 20,
     "metadata": {},
     "output_type": "execute_result"
    },
    {
     "data": {
      "image/png": "[encoded data removed]",
      "text/plain": [
       "<Figure size 640x480 with 1 Axes>"
      ]
     },
     "metadata": {},
     "output_type": "display_data"
    }
   ],
   "source": [
    "# d)\n",
    "test_model = Model(market=Market(test_data),agent=agent)\n",
    "test_P = Policy(test_model,Q)\n",
    "test_episode = test_model.market.init_episode(0)\n",
    "test_evaluation = test_P.evaluate(test_episode)\n",
    "\n",
    "plt.plot(np.arange(test_data.episode_len-1)[:100], test_evaluation['reward'].cumsum()[:100])"
   ]
  },
  {
   "cell_type": "code",
   "execution_count": null,
   "id": "cd533e71-8ade-49ce-9b11-26f3fc9c7605",
   "metadata": {
    "tags": []
   },
   "outputs": [],
   "source": [
    "# c) compare with MC-method\n",
    "Q2 = train_model.generate_Q()\n",
    "\n",
    "train_P = Policy(train_model,Q2)\n",
    "val_P = Policy(val_model,Q2)\n",
    "test_P = Policy(test_model,Q2)"
   ]
  },
  {
   "cell_type": "code",
   "execution_count": null,
   "id": "12287e4c-6d86-4f8f-b836-987be8228ef0",
   "metadata": {},
   "outputs": [],
   "source": [
    "# please check the time required for algorithms to perform \n",
    "# specified EPOCH and EPISODES"
   ]
  },
  {
   "cell_type": "code",
   "execution_count": null,
   "id": "1f88d723-702f-49fb-8035-82b7cc26f63a",
   "metadata": {
    "tags": []
   },
   "outputs": [],
   "source": [
    "%%time\n",
    "\n",
    "EXPLORATION_EPSILON = 0.8 # FOR b)\n",
    "\n",
    "V = dict()\n",
    "\n",
    "val_pnl_history = list()\n",
    "minimal_improvement = 0\n",
    "\n",
    "for epoch in range(TD_N_EPOCHS):\n",
    "    # calculate value of each (state,action) cell\n",
    "    # first visit algorithm\n",
    "    \n",
    "    train_episodes = list()\n",
    "    for i in range(TD_N_EPISODES): \n",
    "        train_episode = train_model.market.init_episode()\n",
    "        train_episodes.append(train_episode)\n",
    "        run = train_P.run(train_episode,EXPLORATION_EPSILON/(i/10+1)) # <= b)\n",
    "        \n",
    "        #==========#\n",
    "        #  a)\n",
    "        #==========#\n",
    "        # change first visit => every visit\n",
    "        pairs_storage = pd.DataFrame( [zip(run['state'], run['action'])] ).T\n",
    "        for item in pd.unique(pairs_storage.iloc[:,0]): #to_numpy():\n",
    "            item_count = pairs_storage[pairs_storage.iloc[:,0] == item].count()[0]\n",
    "            #print(f'item = {item}, count = {item_count}')\n",
    "            \n",
    "            t = run[(run.state==item[0])&(run.action==item[1])].index\n",
    "            #print(f't = {t}')\n",
    "\n",
    "            total_value = 0\n",
    "            for t_step in t:\n",
    "                r = run.loc[t_step:].iloc[1:].reward.values\n",
    "                f = np.power(MC_GAMMA,np.arange(0,r.size))\n",
    "                total_value += (r * f).sum()\n",
    "            total_value /= item_count\n",
    "            #print(total_value)\n",
    "            #================#\n",
    "                \n",
    "            if tuple(item) not in V:\n",
    "                V[tuple(item)] = list()\n",
    "\n",
    "            V[tuple(item)].append(total_value)\n",
    "\n",
    "    # refresh values of Q\n",
    "    for (state,action),vals in V.items():\n",
    "        Q2[state,action] = np.mean(vals)\n",
    "    \n",
    "    best_total_reward = None\n",
    "    best_evaluation = None\n",
    "    for train_episode in train_episodes:\n",
    "        train_evaluation = train_P.evaluate(train_episode)\n",
    "        current_total_reward = train_evaluation['reward'].sum()\n",
    "        if best_total_reward is None or current_total_reward > best_total_reward:\n",
    "            best_total_reward = current_total_reward\n",
    "            best_evaluation = train_evaluation\n",
    "    \n",
    "    val_evaluation = val_P.evaluate(val_episode)\n",
    "    \n",
    "    val_pnl_history.append(val_evaluation['reward'].sum())\n",
    "    \n",
    "    # c) criterion of stopping\n",
    "    # if improvement is less than minimal_improvement / 3 => stop learning\n",
    "    if epoch > 1:\n",
    "        if abs( val_pnl_history[-1] - val_pnl_history[-2] ) < minimal_improvement / 3:\n",
    "            break\n",
    "        minimal_improvement = min(minimal_improvement, abs(val_pnl_history[-1] - val_pnl_history[-2]))\n",
    "    \n",
    "    # plot\n",
    "    clear_output()\n",
    "    \n",
    "    fix,ax = plt.subplots(2,2,figsize=(25,8))\n",
    "    \n",
    "    ax[0,0].plot(best_evaluation['reward'].cumsum())\n",
    "    ax[0,0].set_title('Best training episode')\n",
    "    \n",
    "    ax[0,1].plot(val_evaluation['reward'].cumsum())\n",
    "    ax[0,1].set_title('Validation set')\n",
    "    \n",
    "    ax[1,0].plot(val_pnl_history)\n",
    "    ax[1,0].set_title('Validation PNL history')\n",
    "    ax[1,0].set_xlabel('Epoch #')\n",
    "    ax[1,0].set_ylabel('PNL')\n",
    "    \n",
    "    sns.heatmap(Q2.T,ax=ax[1,1])\n",
    "    ax[1,1].invert_yaxis()\n",
    "    ax[1,1].set_title('Policy')\n",
    "    \n",
    "    plt.show()"
   ]
  },
  {
   "cell_type": "code",
   "execution_count": null,
   "id": "6b0d9016-dd75-4b2d-a4ab-7c39c2d12591",
   "metadata": {
    "tags": []
   },
   "outputs": [],
   "source": [
    "# b)\n",
    "test_model = Model(market=Market(test_data),agent=agent)\n",
    "test_P = Policy(test_model,Q2)\n",
    "test_episode = test_model.market.init_episode(0)\n",
    "test_evaluation = test_P.evaluate(test_episode)\n",
    "\n",
    "plt.plot(np.arange(test_data.episode_len-1)[:100], test_evaluation['reward'].cumsum()[:100])"
   ]
  }
 ],
 "metadata": {
  "kernelspec": {
   "display_name": "Python 3 (ipykernel)",
   "language": "python",
   "name": "python3"
  },
  "language_info": {
   "codemirror_mode": {
    "name": "ipython",
    "version": 3
   },
   "file_extension": ".py",
   "mimetype": "text/x-python",
   "name": "python",
   "nbconvert_exporter": "python",
   "pygments_lexer": "ipython3",
   "version": "3.10.11"
  }
 },
 "nbformat": 4,
 "nbformat_minor": 5
}
