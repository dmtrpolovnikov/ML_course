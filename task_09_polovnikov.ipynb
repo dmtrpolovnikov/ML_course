{
 "cells": [
  {
   "cell_type": "code",
   "execution_count": 157,
   "id": "6aeec56e-d289-40a0-bb95-03a2e68c4c19",
   "metadata": {
    "tags": []
   },
   "outputs": [],
   "source": [
    "import os\n",
    "import sys\n",
    "\n",
    "import numpy as np\n",
    "import pandas as pd\n",
    "\n",
    "from sklearn.model_selection import train_test_split\n",
    "from sklearn.preprocessing import RobustScaler,MinMaxScaler,StandardScaler,QuantileTransformer\n",
    "\n",
    "import torch\n",
    "import torch.nn as nn\n",
    "import torch.nn.functional as F\n",
    "\n",
    "from collections import namedtuple\n",
    "\n",
    "from IPython.display import clear_output\n",
    "\n",
    "import matplotlib.pyplot as plt\n",
    "%matplotlib inline"
   ]
  },
  {
   "cell_type": "code",
   "execution_count": 158,
   "id": "e4057032-dd5f-4d08-8876-e7d14270246f",
   "metadata": {
    "tags": []
   },
   "outputs": [],
   "source": [
    "full_name = 'Dmitry Polovnikov'\n",
    "random_state = sum(map(ord,full_name))"
   ]
  },
  {
   "cell_type": "code",
   "execution_count": 159,
   "id": "87d3b78d-e8c8-4ec5-b591-727a6c3048e1",
   "metadata": {
    "tags": []
   },
   "outputs": [],
   "source": [
    "MDATA_PATH = 'sirius_ml_labs-main-ps4-mdata/ps4/mdata'"
   ]
  },
  {
   "cell_type": "code",
   "execution_count": 160,
   "id": "91e939d2-5506-456f-b0c4-8aebded93b5d",
   "metadata": {
    "tags": []
   },
   "outputs": [],
   "source": [
    "def get_dates():\n",
    "    return sorted(os.listdir(MDATA_PATH))\n",
    "\n",
    "def get_tickers(date):\n",
    "    return sorted(os.listdir(os.path.join(MDATA_PATH,date)))\n",
    "\n",
    "dates = get_dates()\n",
    "\n",
    "date_tickers = dict([(date,get_tickers(date)) for date in dates])\n",
    "tickers = np.unique(np.concatenate(list(date_tickers.values()))).tolist()\n",
    "\n",
    "def get_market_data(ticker):\n",
    "    data = []\n",
    "    for date in dates:\n",
    "        if not os.path.exists(os.path.join(MDATA_PATH,date,ticker)):\n",
    "            continue\n",
    "        df = pd.read_csv(\n",
    "            os.path.join(MDATA_PATH,date,ticker),\n",
    "            compression='gzip',\n",
    "            dtype={'bar_time':float,'TIMESTAMP':float},\n",
    "            index_col=0,\n",
    "            parse_dates=[2,3],\n",
    "            date_parser=pd.to_datetime,\n",
    "        )\n",
    "        df.drop([\n",
    "                'TIMESTAMP','WEEKDAY','MINUTE','HOUR','ZERO_SPREAD_ON_TRADE','EMPTY_LOB_SIDE_AFTER_UPDATE','NEGATIVE_SPREAD_AFTER_UPDATE',\n",
    "                'ZERO_SPREAD_AFTER_UPDATE','EMPTY_LOB_SIDE_ON_TRADE','NEGATIVE_SPREAD_ON_TRADE','bar_count','BAR_DURATION'\n",
    "            ], axis = 1, inplace = True\n",
    "        )\n",
    "        df = df[df.columns[~df.columns.str.startswith('EXEC')]]\n",
    "        data.append(df)\n",
    "    data = pd.concat(data).set_index('bar_time').sort_index()\n",
    "    \n",
    "    price_grid = data.filter(like='PRICE_GRID')\n",
    "    vol_grid = data.filter(like='VOL_GRID')\n",
    "    \n",
    "    data = data[ data.columns[ ~data.columns.str.startswith('PRICE_GRID') & ~data.columns.str.startswith('VOL_GRID') ] ]\n",
    "    \n",
    "    return data,price_grid,vol_grid"
   ]
  },
  {
   "cell_type": "code",
   "execution_count": 161,
   "id": "99ce16b4-ad6b-48fe-916e-17fd3c03d4a7",
   "metadata": {
    "tags": []
   },
   "outputs": [],
   "source": [
    "ticker = 'Z.DOGE'"
   ]
  },
  {
   "cell_type": "code",
   "execution_count": 162,
   "id": "198e183c-c690-4d31-b2ba-f6e1de310069",
   "metadata": {
    "collapsed": true,
    "jupyter": {
     "outputs_hidden": true
    },
    "tags": []
   },
   "outputs": [
    {
     "name": "stderr",
     "output_type": "stream",
     "text": [
      "/tmp/ipykernel_2854990/2711608588.py:17: FutureWarning: The argument 'date_parser' is deprecated and will be removed in a future version. Please use 'date_format' instead, or read your data in as 'object' dtype and then call 'to_datetime'.\n",
      "  df = pd.read_csv(\n",
      "/tmp/ipykernel_2854990/2711608588.py:17: FutureWarning: The argument 'date_parser' is deprecated and will be removed in a future version. Please use 'date_format' instead, or read your data in as 'object' dtype and then call 'to_datetime'.\n",
      "  df = pd.read_csv(\n",
      "/tmp/ipykernel_2854990/2711608588.py:17: FutureWarning: The argument 'date_parser' is deprecated and will be removed in a future version. Please use 'date_format' instead, or read your data in as 'object' dtype and then call 'to_datetime'.\n",
      "  df = pd.read_csv(\n",
      "/tmp/ipykernel_2854990/2711608588.py:17: FutureWarning: The argument 'date_parser' is deprecated and will be removed in a future version. Please use 'date_format' instead, or read your data in as 'object' dtype and then call 'to_datetime'.\n",
      "  df = pd.read_csv(\n",
      "/tmp/ipykernel_2854990/2711608588.py:17: FutureWarning: The argument 'date_parser' is deprecated and will be removed in a future version. Please use 'date_format' instead, or read your data in as 'object' dtype and then call 'to_datetime'.\n",
      "  df = pd.read_csv(\n",
      "/tmp/ipykernel_2854990/2711608588.py:17: FutureWarning: The argument 'date_parser' is deprecated and will be removed in a future version. Please use 'date_format' instead, or read your data in as 'object' dtype and then call 'to_datetime'.\n",
      "  df = pd.read_csv(\n",
      "/tmp/ipykernel_2854990/2711608588.py:17: FutureWarning: The argument 'date_parser' is deprecated and will be removed in a future version. Please use 'date_format' instead, or read your data in as 'object' dtype and then call 'to_datetime'.\n",
      "  df = pd.read_csv(\n",
      "/tmp/ipykernel_2854990/2711608588.py:17: FutureWarning: The argument 'date_parser' is deprecated and will be removed in a future version. Please use 'date_format' instead, or read your data in as 'object' dtype and then call 'to_datetime'.\n",
      "  df = pd.read_csv(\n",
      "/tmp/ipykernel_2854990/2711608588.py:17: FutureWarning: The argument 'date_parser' is deprecated and will be removed in a future version. Please use 'date_format' instead, or read your data in as 'object' dtype and then call 'to_datetime'.\n",
      "  df = pd.read_csv(\n",
      "/tmp/ipykernel_2854990/2711608588.py:17: FutureWarning: The argument 'date_parser' is deprecated and will be removed in a future version. Please use 'date_format' instead, or read your data in as 'object' dtype and then call 'to_datetime'.\n",
      "  df = pd.read_csv(\n",
      "/tmp/ipykernel_2854990/2711608588.py:17: FutureWarning: The argument 'date_parser' is deprecated and will be removed in a future version. Please use 'date_format' instead, or read your data in as 'object' dtype and then call 'to_datetime'.\n",
      "  df = pd.read_csv(\n",
      "/tmp/ipykernel_2854990/2711608588.py:17: FutureWarning: The argument 'date_parser' is deprecated and will be removed in a future version. Please use 'date_format' instead, or read your data in as 'object' dtype and then call 'to_datetime'.\n",
      "  df = pd.read_csv(\n",
      "/tmp/ipykernel_2854990/2711608588.py:17: FutureWarning: The argument 'date_parser' is deprecated and will be removed in a future version. Please use 'date_format' instead, or read your data in as 'object' dtype and then call 'to_datetime'.\n",
      "  df = pd.read_csv(\n",
      "/tmp/ipykernel_2854990/2711608588.py:17: FutureWarning: The argument 'date_parser' is deprecated and will be removed in a future version. Please use 'date_format' instead, or read your data in as 'object' dtype and then call 'to_datetime'.\n",
      "  df = pd.read_csv(\n",
      "/tmp/ipykernel_2854990/2711608588.py:17: FutureWarning: The argument 'date_parser' is deprecated and will be removed in a future version. Please use 'date_format' instead, or read your data in as 'object' dtype and then call 'to_datetime'.\n",
      "  df = pd.read_csv(\n",
      "/tmp/ipykernel_2854990/2711608588.py:17: FutureWarning: The argument 'date_parser' is deprecated and will be removed in a future version. Please use 'date_format' instead, or read your data in as 'object' dtype and then call 'to_datetime'.\n",
      "  df = pd.read_csv(\n",
      "/tmp/ipykernel_2854990/2711608588.py:17: FutureWarning: The argument 'date_parser' is deprecated and will be removed in a future version. Please use 'date_format' instead, or read your data in as 'object' dtype and then call 'to_datetime'.\n",
      "  df = pd.read_csv(\n",
      "/tmp/ipykernel_2854990/2711608588.py:17: FutureWarning: The argument 'date_parser' is deprecated and will be removed in a future version. Please use 'date_format' instead, or read your data in as 'object' dtype and then call 'to_datetime'.\n",
      "  df = pd.read_csv(\n",
      "/tmp/ipykernel_2854990/2711608588.py:17: FutureWarning: The argument 'date_parser' is deprecated and will be removed in a future version. Please use 'date_format' instead, or read your data in as 'object' dtype and then call 'to_datetime'.\n",
      "  df = pd.read_csv(\n",
      "/tmp/ipykernel_2854990/2711608588.py:17: FutureWarning: The argument 'date_parser' is deprecated and will be removed in a future version. Please use 'date_format' instead, or read your data in as 'object' dtype and then call 'to_datetime'.\n",
      "  df = pd.read_csv(\n",
      "/tmp/ipykernel_2854990/2711608588.py:17: FutureWarning: The argument 'date_parser' is deprecated and will be removed in a future version. Please use 'date_format' instead, or read your data in as 'object' dtype and then call 'to_datetime'.\n",
      "  df = pd.read_csv(\n",
      "/tmp/ipykernel_2854990/2711608588.py:17: FutureWarning: The argument 'date_parser' is deprecated and will be removed in a future version. Please use 'date_format' instead, or read your data in as 'object' dtype and then call 'to_datetime'.\n",
      "  df = pd.read_csv(\n",
      "/tmp/ipykernel_2854990/2711608588.py:17: FutureWarning: The argument 'date_parser' is deprecated and will be removed in a future version. Please use 'date_format' instead, or read your data in as 'object' dtype and then call 'to_datetime'.\n",
      "  df = pd.read_csv(\n",
      "/tmp/ipykernel_2854990/2711608588.py:17: FutureWarning: The argument 'date_parser' is deprecated and will be removed in a future version. Please use 'date_format' instead, or read your data in as 'object' dtype and then call 'to_datetime'.\n",
      "  df = pd.read_csv(\n",
      "/tmp/ipykernel_2854990/2711608588.py:17: FutureWarning: The argument 'date_parser' is deprecated and will be removed in a future version. Please use 'date_format' instead, or read your data in as 'object' dtype and then call 'to_datetime'.\n",
      "  df = pd.read_csv(\n",
      "/tmp/ipykernel_2854990/2711608588.py:17: FutureWarning: The argument 'date_parser' is deprecated and will be removed in a future version. Please use 'date_format' instead, or read your data in as 'object' dtype and then call 'to_datetime'.\n",
      "  df = pd.read_csv(\n",
      "/tmp/ipykernel_2854990/2711608588.py:17: FutureWarning: The argument 'date_parser' is deprecated and will be removed in a future version. Please use 'date_format' instead, or read your data in as 'object' dtype and then call 'to_datetime'.\n",
      "  df = pd.read_csv(\n",
      "/tmp/ipykernel_2854990/2711608588.py:17: FutureWarning: The argument 'date_parser' is deprecated and will be removed in a future version. Please use 'date_format' instead, or read your data in as 'object' dtype and then call 'to_datetime'.\n",
      "  df = pd.read_csv(\n",
      "/tmp/ipykernel_2854990/2711608588.py:17: FutureWarning: The argument 'date_parser' is deprecated and will be removed in a future version. Please use 'date_format' instead, or read your data in as 'object' dtype and then call 'to_datetime'.\n",
      "  df = pd.read_csv(\n",
      "/tmp/ipykernel_2854990/2711608588.py:17: FutureWarning: The argument 'date_parser' is deprecated and will be removed in a future version. Please use 'date_format' instead, or read your data in as 'object' dtype and then call 'to_datetime'.\n",
      "  df = pd.read_csv(\n",
      "/tmp/ipykernel_2854990/2711608588.py:17: FutureWarning: The argument 'date_parser' is deprecated and will be removed in a future version. Please use 'date_format' instead, or read your data in as 'object' dtype and then call 'to_datetime'.\n",
      "  df = pd.read_csv(\n",
      "/tmp/ipykernel_2854990/2711608588.py:17: FutureWarning: The argument 'date_parser' is deprecated and will be removed in a future version. Please use 'date_format' instead, or read your data in as 'object' dtype and then call 'to_datetime'.\n",
      "  df = pd.read_csv(\n",
      "/tmp/ipykernel_2854990/2711608588.py:17: FutureWarning: The argument 'date_parser' is deprecated and will be removed in a future version. Please use 'date_format' instead, or read your data in as 'object' dtype and then call 'to_datetime'.\n",
      "  df = pd.read_csv(\n",
      "/tmp/ipykernel_2854990/2711608588.py:17: FutureWarning: The argument 'date_parser' is deprecated and will be removed in a future version. Please use 'date_format' instead, or read your data in as 'object' dtype and then call 'to_datetime'.\n",
      "  df = pd.read_csv(\n",
      "/tmp/ipykernel_2854990/2711608588.py:17: FutureWarning: The argument 'date_parser' is deprecated and will be removed in a future version. Please use 'date_format' instead, or read your data in as 'object' dtype and then call 'to_datetime'.\n",
      "  df = pd.read_csv(\n",
      "/tmp/ipykernel_2854990/2711608588.py:17: FutureWarning: The argument 'date_parser' is deprecated and will be removed in a future version. Please use 'date_format' instead, or read your data in as 'object' dtype and then call 'to_datetime'.\n",
      "  df = pd.read_csv(\n",
      "/tmp/ipykernel_2854990/2711608588.py:17: FutureWarning: The argument 'date_parser' is deprecated and will be removed in a future version. Please use 'date_format' instead, or read your data in as 'object' dtype and then call 'to_datetime'.\n",
      "  df = pd.read_csv(\n",
      "/tmp/ipykernel_2854990/2711608588.py:17: FutureWarning: The argument 'date_parser' is deprecated and will be removed in a future version. Please use 'date_format' instead, or read your data in as 'object' dtype and then call 'to_datetime'.\n",
      "  df = pd.read_csv(\n",
      "/tmp/ipykernel_2854990/2711608588.py:17: FutureWarning: The argument 'date_parser' is deprecated and will be removed in a future version. Please use 'date_format' instead, or read your data in as 'object' dtype and then call 'to_datetime'.\n",
      "  df = pd.read_csv(\n",
      "/tmp/ipykernel_2854990/2711608588.py:17: FutureWarning: The argument 'date_parser' is deprecated and will be removed in a future version. Please use 'date_format' instead, or read your data in as 'object' dtype and then call 'to_datetime'.\n",
      "  df = pd.read_csv(\n",
      "/tmp/ipykernel_2854990/2711608588.py:17: FutureWarning: The argument 'date_parser' is deprecated and will be removed in a future version. Please use 'date_format' instead, or read your data in as 'object' dtype and then call 'to_datetime'.\n",
      "  df = pd.read_csv(\n",
      "/tmp/ipykernel_2854990/2711608588.py:17: FutureWarning: The argument 'date_parser' is deprecated and will be removed in a future version. Please use 'date_format' instead, or read your data in as 'object' dtype and then call 'to_datetime'.\n",
      "  df = pd.read_csv(\n",
      "/tmp/ipykernel_2854990/2711608588.py:17: FutureWarning: The argument 'date_parser' is deprecated and will be removed in a future version. Please use 'date_format' instead, or read your data in as 'object' dtype and then call 'to_datetime'.\n",
      "  df = pd.read_csv(\n",
      "/tmp/ipykernel_2854990/2711608588.py:17: FutureWarning: The argument 'date_parser' is deprecated and will be removed in a future version. Please use 'date_format' instead, or read your data in as 'object' dtype and then call 'to_datetime'.\n",
      "  df = pd.read_csv(\n",
      "/tmp/ipykernel_2854990/2711608588.py:17: FutureWarning: The argument 'date_parser' is deprecated and will be removed in a future version. Please use 'date_format' instead, or read your data in as 'object' dtype and then call 'to_datetime'.\n",
      "  df = pd.read_csv(\n",
      "/tmp/ipykernel_2854990/2711608588.py:17: FutureWarning: The argument 'date_parser' is deprecated and will be removed in a future version. Please use 'date_format' instead, or read your data in as 'object' dtype and then call 'to_datetime'.\n",
      "  df = pd.read_csv(\n",
      "/tmp/ipykernel_2854990/2711608588.py:17: FutureWarning: The argument 'date_parser' is deprecated and will be removed in a future version. Please use 'date_format' instead, or read your data in as 'object' dtype and then call 'to_datetime'.\n",
      "  df = pd.read_csv(\n",
      "/tmp/ipykernel_2854990/2711608588.py:17: FutureWarning: The argument 'date_parser' is deprecated and will be removed in a future version. Please use 'date_format' instead, or read your data in as 'object' dtype and then call 'to_datetime'.\n",
      "  df = pd.read_csv(\n",
      "/tmp/ipykernel_2854990/2711608588.py:17: FutureWarning: The argument 'date_parser' is deprecated and will be removed in a future version. Please use 'date_format' instead, or read your data in as 'object' dtype and then call 'to_datetime'.\n",
      "  df = pd.read_csv(\n",
      "/tmp/ipykernel_2854990/2711608588.py:17: FutureWarning: The argument 'date_parser' is deprecated and will be removed in a future version. Please use 'date_format' instead, or read your data in as 'object' dtype and then call 'to_datetime'.\n",
      "  df = pd.read_csv(\n",
      "/tmp/ipykernel_2854990/2711608588.py:17: FutureWarning: The argument 'date_parser' is deprecated and will be removed in a future version. Please use 'date_format' instead, or read your data in as 'object' dtype and then call 'to_datetime'.\n",
      "  df = pd.read_csv(\n",
      "/tmp/ipykernel_2854990/2711608588.py:17: FutureWarning: The argument 'date_parser' is deprecated and will be removed in a future version. Please use 'date_format' instead, or read your data in as 'object' dtype and then call 'to_datetime'.\n",
      "  df = pd.read_csv(\n",
      "/tmp/ipykernel_2854990/2711608588.py:17: FutureWarning: The argument 'date_parser' is deprecated and will be removed in a future version. Please use 'date_format' instead, or read your data in as 'object' dtype and then call 'to_datetime'.\n",
      "  df = pd.read_csv(\n",
      "/tmp/ipykernel_2854990/2711608588.py:17: FutureWarning: The argument 'date_parser' is deprecated and will be removed in a future version. Please use 'date_format' instead, or read your data in as 'object' dtype and then call 'to_datetime'.\n",
      "  df = pd.read_csv(\n",
      "/tmp/ipykernel_2854990/2711608588.py:17: FutureWarning: The argument 'date_parser' is deprecated and will be removed in a future version. Please use 'date_format' instead, or read your data in as 'object' dtype and then call 'to_datetime'.\n",
      "  df = pd.read_csv(\n",
      "/tmp/ipykernel_2854990/2711608588.py:17: FutureWarning: The argument 'date_parser' is deprecated and will be removed in a future version. Please use 'date_format' instead, or read your data in as 'object' dtype and then call 'to_datetime'.\n",
      "  df = pd.read_csv(\n",
      "/tmp/ipykernel_2854990/2711608588.py:17: FutureWarning: The argument 'date_parser' is deprecated and will be removed in a future version. Please use 'date_format' instead, or read your data in as 'object' dtype and then call 'to_datetime'.\n",
      "  df = pd.read_csv(\n",
      "/tmp/ipykernel_2854990/2711608588.py:17: FutureWarning: The argument 'date_parser' is deprecated and will be removed in a future version. Please use 'date_format' instead, or read your data in as 'object' dtype and then call 'to_datetime'.\n",
      "  df = pd.read_csv(\n",
      "/tmp/ipykernel_2854990/2711608588.py:17: FutureWarning: The argument 'date_parser' is deprecated and will be removed in a future version. Please use 'date_format' instead, or read your data in as 'object' dtype and then call 'to_datetime'.\n",
      "  df = pd.read_csv(\n",
      "/tmp/ipykernel_2854990/2711608588.py:17: FutureWarning: The argument 'date_parser' is deprecated and will be removed in a future version. Please use 'date_format' instead, or read your data in as 'object' dtype and then call 'to_datetime'.\n",
      "  df = pd.read_csv(\n",
      "/tmp/ipykernel_2854990/2711608588.py:17: FutureWarning: The argument 'date_parser' is deprecated and will be removed in a future version. Please use 'date_format' instead, or read your data in as 'object' dtype and then call 'to_datetime'.\n",
      "  df = pd.read_csv(\n",
      "/tmp/ipykernel_2854990/2711608588.py:17: FutureWarning: The argument 'date_parser' is deprecated and will be removed in a future version. Please use 'date_format' instead, or read your data in as 'object' dtype and then call 'to_datetime'.\n",
      "  df = pd.read_csv(\n",
      "/tmp/ipykernel_2854990/2711608588.py:17: FutureWarning: The argument 'date_parser' is deprecated and will be removed in a future version. Please use 'date_format' instead, or read your data in as 'object' dtype and then call 'to_datetime'.\n",
      "  df = pd.read_csv(\n",
      "/tmp/ipykernel_2854990/2711608588.py:17: FutureWarning: The argument 'date_parser' is deprecated and will be removed in a future version. Please use 'date_format' instead, or read your data in as 'object' dtype and then call 'to_datetime'.\n",
      "  df = pd.read_csv(\n",
      "/tmp/ipykernel_2854990/2711608588.py:17: FutureWarning: The argument 'date_parser' is deprecated and will be removed in a future version. Please use 'date_format' instead, or read your data in as 'object' dtype and then call 'to_datetime'.\n",
      "  df = pd.read_csv(\n",
      "/tmp/ipykernel_2854990/2711608588.py:17: FutureWarning: The argument 'date_parser' is deprecated and will be removed in a future version. Please use 'date_format' instead, or read your data in as 'object' dtype and then call 'to_datetime'.\n",
      "  df = pd.read_csv(\n",
      "/tmp/ipykernel_2854990/2711608588.py:17: FutureWarning: The argument 'date_parser' is deprecated and will be removed in a future version. Please use 'date_format' instead, or read your data in as 'object' dtype and then call 'to_datetime'.\n",
      "  df = pd.read_csv(\n",
      "/tmp/ipykernel_2854990/2711608588.py:17: FutureWarning: The argument 'date_parser' is deprecated and will be removed in a future version. Please use 'date_format' instead, or read your data in as 'object' dtype and then call 'to_datetime'.\n",
      "  df = pd.read_csv(\n",
      "/tmp/ipykernel_2854990/2711608588.py:17: FutureWarning: The argument 'date_parser' is deprecated and will be removed in a future version. Please use 'date_format' instead, or read your data in as 'object' dtype and then call 'to_datetime'.\n",
      "  df = pd.read_csv(\n",
      "/tmp/ipykernel_2854990/2711608588.py:17: FutureWarning: The argument 'date_parser' is deprecated and will be removed in a future version. Please use 'date_format' instead, or read your data in as 'object' dtype and then call 'to_datetime'.\n",
      "  df = pd.read_csv(\n",
      "/tmp/ipykernel_2854990/2711608588.py:17: FutureWarning: The argument 'date_parser' is deprecated and will be removed in a future version. Please use 'date_format' instead, or read your data in as 'object' dtype and then call 'to_datetime'.\n",
      "  df = pd.read_csv(\n",
      "/tmp/ipykernel_2854990/2711608588.py:17: FutureWarning: The argument 'date_parser' is deprecated and will be removed in a future version. Please use 'date_format' instead, or read your data in as 'object' dtype and then call 'to_datetime'.\n",
      "  df = pd.read_csv(\n",
      "/tmp/ipykernel_2854990/2711608588.py:17: FutureWarning: The argument 'date_parser' is deprecated and will be removed in a future version. Please use 'date_format' instead, or read your data in as 'object' dtype and then call 'to_datetime'.\n",
      "  df = pd.read_csv(\n",
      "/tmp/ipykernel_2854990/2711608588.py:17: FutureWarning: The argument 'date_parser' is deprecated and will be removed in a future version. Please use 'date_format' instead, or read your data in as 'object' dtype and then call 'to_datetime'.\n",
      "  df = pd.read_csv(\n",
      "/tmp/ipykernel_2854990/2711608588.py:17: FutureWarning: The argument 'date_parser' is deprecated and will be removed in a future version. Please use 'date_format' instead, or read your data in as 'object' dtype and then call 'to_datetime'.\n",
      "  df = pd.read_csv(\n",
      "/tmp/ipykernel_2854990/2711608588.py:17: FutureWarning: The argument 'date_parser' is deprecated and will be removed in a future version. Please use 'date_format' instead, or read your data in as 'object' dtype and then call 'to_datetime'.\n",
      "  df = pd.read_csv(\n",
      "/tmp/ipykernel_2854990/2711608588.py:17: FutureWarning: The argument 'date_parser' is deprecated and will be removed in a future version. Please use 'date_format' instead, or read your data in as 'object' dtype and then call 'to_datetime'.\n",
      "  df = pd.read_csv(\n",
      "/tmp/ipykernel_2854990/2711608588.py:17: FutureWarning: The argument 'date_parser' is deprecated and will be removed in a future version. Please use 'date_format' instead, or read your data in as 'object' dtype and then call 'to_datetime'.\n",
      "  df = pd.read_csv(\n",
      "/tmp/ipykernel_2854990/2711608588.py:17: FutureWarning: The argument 'date_parser' is deprecated and will be removed in a future version. Please use 'date_format' instead, or read your data in as 'object' dtype and then call 'to_datetime'.\n",
      "  df = pd.read_csv(\n",
      "/tmp/ipykernel_2854990/2711608588.py:17: FutureWarning: The argument 'date_parser' is deprecated and will be removed in a future version. Please use 'date_format' instead, or read your data in as 'object' dtype and then call 'to_datetime'.\n",
      "  df = pd.read_csv(\n",
      "/tmp/ipykernel_2854990/2711608588.py:17: FutureWarning: The argument 'date_parser' is deprecated and will be removed in a future version. Please use 'date_format' instead, or read your data in as 'object' dtype and then call 'to_datetime'.\n",
      "  df = pd.read_csv(\n",
      "/tmp/ipykernel_2854990/2711608588.py:17: FutureWarning: The argument 'date_parser' is deprecated and will be removed in a future version. Please use 'date_format' instead, or read your data in as 'object' dtype and then call 'to_datetime'.\n",
      "  df = pd.read_csv(\n",
      "/tmp/ipykernel_2854990/2711608588.py:17: FutureWarning: The argument 'date_parser' is deprecated and will be removed in a future version. Please use 'date_format' instead, or read your data in as 'object' dtype and then call 'to_datetime'.\n",
      "  df = pd.read_csv(\n",
      "/tmp/ipykernel_2854990/2711608588.py:17: FutureWarning: The argument 'date_parser' is deprecated and will be removed in a future version. Please use 'date_format' instead, or read your data in as 'object' dtype and then call 'to_datetime'.\n",
      "  df = pd.read_csv(\n",
      "/tmp/ipykernel_2854990/2711608588.py:17: FutureWarning: The argument 'date_parser' is deprecated and will be removed in a future version. Please use 'date_format' instead, or read your data in as 'object' dtype and then call 'to_datetime'.\n",
      "  df = pd.read_csv(\n",
      "/tmp/ipykernel_2854990/2711608588.py:17: FutureWarning: The argument 'date_parser' is deprecated and will be removed in a future version. Please use 'date_format' instead, or read your data in as 'object' dtype and then call 'to_datetime'.\n",
      "  df = pd.read_csv(\n",
      "/tmp/ipykernel_2854990/2711608588.py:17: FutureWarning: The argument 'date_parser' is deprecated and will be removed in a future version. Please use 'date_format' instead, or read your data in as 'object' dtype and then call 'to_datetime'.\n",
      "  df = pd.read_csv(\n",
      "/tmp/ipykernel_2854990/2711608588.py:17: FutureWarning: The argument 'date_parser' is deprecated and will be removed in a future version. Please use 'date_format' instead, or read your data in as 'object' dtype and then call 'to_datetime'.\n",
      "  df = pd.read_csv(\n",
      "/tmp/ipykernel_2854990/2711608588.py:17: FutureWarning: The argument 'date_parser' is deprecated and will be removed in a future version. Please use 'date_format' instead, or read your data in as 'object' dtype and then call 'to_datetime'.\n",
      "  df = pd.read_csv(\n",
      "/tmp/ipykernel_2854990/2711608588.py:17: FutureWarning: The argument 'date_parser' is deprecated and will be removed in a future version. Please use 'date_format' instead, or read your data in as 'object' dtype and then call 'to_datetime'.\n",
      "  df = pd.read_csv(\n",
      "/tmp/ipykernel_2854990/2711608588.py:17: FutureWarning: The argument 'date_parser' is deprecated and will be removed in a future version. Please use 'date_format' instead, or read your data in as 'object' dtype and then call 'to_datetime'.\n",
      "  df = pd.read_csv(\n",
      "/tmp/ipykernel_2854990/2711608588.py:17: FutureWarning: The argument 'date_parser' is deprecated and will be removed in a future version. Please use 'date_format' instead, or read your data in as 'object' dtype and then call 'to_datetime'.\n",
      "  df = pd.read_csv(\n",
      "/tmp/ipykernel_2854990/2711608588.py:17: FutureWarning: The argument 'date_parser' is deprecated and will be removed in a future version. Please use 'date_format' instead, or read your data in as 'object' dtype and then call 'to_datetime'.\n",
      "  df = pd.read_csv(\n",
      "/tmp/ipykernel_2854990/2711608588.py:17: FutureWarning: The argument 'date_parser' is deprecated and will be removed in a future version. Please use 'date_format' instead, or read your data in as 'object' dtype and then call 'to_datetime'.\n",
      "  df = pd.read_csv(\n",
      "/tmp/ipykernel_2854990/2711608588.py:17: FutureWarning: The argument 'date_parser' is deprecated and will be removed in a future version. Please use 'date_format' instead, or read your data in as 'object' dtype and then call 'to_datetime'.\n",
      "  df = pd.read_csv(\n",
      "/tmp/ipykernel_2854990/2711608588.py:17: FutureWarning: The argument 'date_parser' is deprecated and will be removed in a future version. Please use 'date_format' instead, or read your data in as 'object' dtype and then call 'to_datetime'.\n",
      "  df = pd.read_csv(\n",
      "/tmp/ipykernel_2854990/2711608588.py:17: FutureWarning: The argument 'date_parser' is deprecated and will be removed in a future version. Please use 'date_format' instead, or read your data in as 'object' dtype and then call 'to_datetime'.\n",
      "  df = pd.read_csv(\n",
      "/tmp/ipykernel_2854990/2711608588.py:17: FutureWarning: The argument 'date_parser' is deprecated and will be removed in a future version. Please use 'date_format' instead, or read your data in as 'object' dtype and then call 'to_datetime'.\n",
      "  df = pd.read_csv(\n",
      "/tmp/ipykernel_2854990/2711608588.py:17: FutureWarning: The argument 'date_parser' is deprecated and will be removed in a future version. Please use 'date_format' instead, or read your data in as 'object' dtype and then call 'to_datetime'.\n",
      "  df = pd.read_csv(\n",
      "/tmp/ipykernel_2854990/2711608588.py:17: FutureWarning: The argument 'date_parser' is deprecated and will be removed in a future version. Please use 'date_format' instead, or read your data in as 'object' dtype and then call 'to_datetime'.\n",
      "  df = pd.read_csv(\n",
      "/tmp/ipykernel_2854990/2711608588.py:17: FutureWarning: The argument 'date_parser' is deprecated and will be removed in a future version. Please use 'date_format' instead, or read your data in as 'object' dtype and then call 'to_datetime'.\n",
      "  df = pd.read_csv(\n",
      "/tmp/ipykernel_2854990/2711608588.py:17: FutureWarning: The argument 'date_parser' is deprecated and will be removed in a future version. Please use 'date_format' instead, or read your data in as 'object' dtype and then call 'to_datetime'.\n",
      "  df = pd.read_csv(\n",
      "/tmp/ipykernel_2854990/2711608588.py:17: FutureWarning: The argument 'date_parser' is deprecated and will be removed in a future version. Please use 'date_format' instead, or read your data in as 'object' dtype and then call 'to_datetime'.\n",
      "  df = pd.read_csv(\n",
      "/tmp/ipykernel_2854990/2711608588.py:17: FutureWarning: The argument 'date_parser' is deprecated and will be removed in a future version. Please use 'date_format' instead, or read your data in as 'object' dtype and then call 'to_datetime'.\n",
      "  df = pd.read_csv(\n",
      "/tmp/ipykernel_2854990/2711608588.py:17: FutureWarning: The argument 'date_parser' is deprecated and will be removed in a future version. Please use 'date_format' instead, or read your data in as 'object' dtype and then call 'to_datetime'.\n",
      "  df = pd.read_csv(\n",
      "/tmp/ipykernel_2854990/2711608588.py:17: FutureWarning: The argument 'date_parser' is deprecated and will be removed in a future version. Please use 'date_format' instead, or read your data in as 'object' dtype and then call 'to_datetime'.\n",
      "  df = pd.read_csv(\n",
      "/tmp/ipykernel_2854990/2711608588.py:17: FutureWarning: The argument 'date_parser' is deprecated and will be removed in a future version. Please use 'date_format' instead, or read your data in as 'object' dtype and then call 'to_datetime'.\n",
      "  df = pd.read_csv(\n",
      "/tmp/ipykernel_2854990/2711608588.py:17: FutureWarning: The argument 'date_parser' is deprecated and will be removed in a future version. Please use 'date_format' instead, or read your data in as 'object' dtype and then call 'to_datetime'.\n",
      "  df = pd.read_csv(\n",
      "/tmp/ipykernel_2854990/2711608588.py:17: FutureWarning: The argument 'date_parser' is deprecated and will be removed in a future version. Please use 'date_format' instead, or read your data in as 'object' dtype and then call 'to_datetime'.\n",
      "  df = pd.read_csv(\n",
      "/tmp/ipykernel_2854990/2711608588.py:17: FutureWarning: The argument 'date_parser' is deprecated and will be removed in a future version. Please use 'date_format' instead, or read your data in as 'object' dtype and then call 'to_datetime'.\n",
      "  df = pd.read_csv(\n",
      "/tmp/ipykernel_2854990/2711608588.py:17: FutureWarning: The argument 'date_parser' is deprecated and will be removed in a future version. Please use 'date_format' instead, or read your data in as 'object' dtype and then call 'to_datetime'.\n",
      "  df = pd.read_csv(\n",
      "/tmp/ipykernel_2854990/2711608588.py:17: FutureWarning: The argument 'date_parser' is deprecated and will be removed in a future version. Please use 'date_format' instead, or read your data in as 'object' dtype and then call 'to_datetime'.\n",
      "  df = pd.read_csv(\n",
      "/tmp/ipykernel_2854990/2711608588.py:17: FutureWarning: The argument 'date_parser' is deprecated and will be removed in a future version. Please use 'date_format' instead, or read your data in as 'object' dtype and then call 'to_datetime'.\n",
      "  df = pd.read_csv(\n",
      "/tmp/ipykernel_2854990/2711608588.py:17: FutureWarning: The argument 'date_parser' is deprecated and will be removed in a future version. Please use 'date_format' instead, or read your data in as 'object' dtype and then call 'to_datetime'.\n",
      "  df = pd.read_csv(\n",
      "/tmp/ipykernel_2854990/2711608588.py:17: FutureWarning: The argument 'date_parser' is deprecated and will be removed in a future version. Please use 'date_format' instead, or read your data in as 'object' dtype and then call 'to_datetime'.\n",
      "  df = pd.read_csv(\n",
      "/tmp/ipykernel_2854990/2711608588.py:17: FutureWarning: The argument 'date_parser' is deprecated and will be removed in a future version. Please use 'date_format' instead, or read your data in as 'object' dtype and then call 'to_datetime'.\n",
      "  df = pd.read_csv(\n",
      "/tmp/ipykernel_2854990/2711608588.py:17: FutureWarning: The argument 'date_parser' is deprecated and will be removed in a future version. Please use 'date_format' instead, or read your data in as 'object' dtype and then call 'to_datetime'.\n",
      "  df = pd.read_csv(\n",
      "/tmp/ipykernel_2854990/2711608588.py:17: FutureWarning: The argument 'date_parser' is deprecated and will be removed in a future version. Please use 'date_format' instead, or read your data in as 'object' dtype and then call 'to_datetime'.\n",
      "  df = pd.read_csv(\n",
      "/tmp/ipykernel_2854990/2711608588.py:17: FutureWarning: The argument 'date_parser' is deprecated and will be removed in a future version. Please use 'date_format' instead, or read your data in as 'object' dtype and then call 'to_datetime'.\n",
      "  df = pd.read_csv(\n",
      "/tmp/ipykernel_2854990/2711608588.py:17: FutureWarning: The argument 'date_parser' is deprecated and will be removed in a future version. Please use 'date_format' instead, or read your data in as 'object' dtype and then call 'to_datetime'.\n",
      "  df = pd.read_csv(\n",
      "/tmp/ipykernel_2854990/2711608588.py:17: FutureWarning: The argument 'date_parser' is deprecated and will be removed in a future version. Please use 'date_format' instead, or read your data in as 'object' dtype and then call 'to_datetime'.\n",
      "  df = pd.read_csv(\n",
      "/tmp/ipykernel_2854990/2711608588.py:17: FutureWarning: The argument 'date_parser' is deprecated and will be removed in a future version. Please use 'date_format' instead, or read your data in as 'object' dtype and then call 'to_datetime'.\n",
      "  df = pd.read_csv(\n",
      "/tmp/ipykernel_2854990/2711608588.py:17: FutureWarning: The argument 'date_parser' is deprecated and will be removed in a future version. Please use 'date_format' instead, or read your data in as 'object' dtype and then call 'to_datetime'.\n",
      "  df = pd.read_csv(\n",
      "/tmp/ipykernel_2854990/2711608588.py:17: FutureWarning: The argument 'date_parser' is deprecated and will be removed in a future version. Please use 'date_format' instead, or read your data in as 'object' dtype and then call 'to_datetime'.\n",
      "  df = pd.read_csv(\n",
      "/tmp/ipykernel_2854990/2711608588.py:17: FutureWarning: The argument 'date_parser' is deprecated and will be removed in a future version. Please use 'date_format' instead, or read your data in as 'object' dtype and then call 'to_datetime'.\n",
      "  df = pd.read_csv(\n",
      "/tmp/ipykernel_2854990/2711608588.py:17: FutureWarning: The argument 'date_parser' is deprecated and will be removed in a future version. Please use 'date_format' instead, or read your data in as 'object' dtype and then call 'to_datetime'.\n",
      "  df = pd.read_csv(\n",
      "/tmp/ipykernel_2854990/2711608588.py:17: FutureWarning: The argument 'date_parser' is deprecated and will be removed in a future version. Please use 'date_format' instead, or read your data in as 'object' dtype and then call 'to_datetime'.\n",
      "  df = pd.read_csv(\n",
      "/tmp/ipykernel_2854990/2711608588.py:17: FutureWarning: The argument 'date_parser' is deprecated and will be removed in a future version. Please use 'date_format' instead, or read your data in as 'object' dtype and then call 'to_datetime'.\n",
      "  df = pd.read_csv(\n",
      "/tmp/ipykernel_2854990/2711608588.py:17: FutureWarning: The argument 'date_parser' is deprecated and will be removed in a future version. Please use 'date_format' instead, or read your data in as 'object' dtype and then call 'to_datetime'.\n",
      "  df = pd.read_csv(\n",
      "/tmp/ipykernel_2854990/2711608588.py:17: FutureWarning: The argument 'date_parser' is deprecated and will be removed in a future version. Please use 'date_format' instead, or read your data in as 'object' dtype and then call 'to_datetime'.\n",
      "  df = pd.read_csv(\n",
      "/tmp/ipykernel_2854990/2711608588.py:17: FutureWarning: The argument 'date_parser' is deprecated and will be removed in a future version. Please use 'date_format' instead, or read your data in as 'object' dtype and then call 'to_datetime'.\n",
      "  df = pd.read_csv(\n",
      "/tmp/ipykernel_2854990/2711608588.py:17: FutureWarning: The argument 'date_parser' is deprecated and will be removed in a future version. Please use 'date_format' instead, or read your data in as 'object' dtype and then call 'to_datetime'.\n",
      "  df = pd.read_csv(\n",
      "/tmp/ipykernel_2854990/2711608588.py:17: FutureWarning: The argument 'date_parser' is deprecated and will be removed in a future version. Please use 'date_format' instead, or read your data in as 'object' dtype and then call 'to_datetime'.\n",
      "  df = pd.read_csv(\n",
      "/tmp/ipykernel_2854990/2711608588.py:17: FutureWarning: The argument 'date_parser' is deprecated and will be removed in a future version. Please use 'date_format' instead, or read your data in as 'object' dtype and then call 'to_datetime'.\n",
      "  df = pd.read_csv(\n",
      "/tmp/ipykernel_2854990/2711608588.py:17: FutureWarning: The argument 'date_parser' is deprecated and will be removed in a future version. Please use 'date_format' instead, or read your data in as 'object' dtype and then call 'to_datetime'.\n",
      "  df = pd.read_csv(\n",
      "/tmp/ipykernel_2854990/2711608588.py:17: FutureWarning: The argument 'date_parser' is deprecated and will be removed in a future version. Please use 'date_format' instead, or read your data in as 'object' dtype and then call 'to_datetime'.\n",
      "  df = pd.read_csv(\n",
      "/tmp/ipykernel_2854990/2711608588.py:17: FutureWarning: The argument 'date_parser' is deprecated and will be removed in a future version. Please use 'date_format' instead, or read your data in as 'object' dtype and then call 'to_datetime'.\n",
      "  df = pd.read_csv(\n",
      "/tmp/ipykernel_2854990/2711608588.py:17: FutureWarning: The argument 'date_parser' is deprecated and will be removed in a future version. Please use 'date_format' instead, or read your data in as 'object' dtype and then call 'to_datetime'.\n",
      "  df = pd.read_csv(\n",
      "/tmp/ipykernel_2854990/2711608588.py:17: FutureWarning: The argument 'date_parser' is deprecated and will be removed in a future version. Please use 'date_format' instead, or read your data in as 'object' dtype and then call 'to_datetime'.\n",
      "  df = pd.read_csv(\n",
      "/tmp/ipykernel_2854990/2711608588.py:17: FutureWarning: The argument 'date_parser' is deprecated and will be removed in a future version. Please use 'date_format' instead, or read your data in as 'object' dtype and then call 'to_datetime'.\n",
      "  df = pd.read_csv(\n",
      "/tmp/ipykernel_2854990/2711608588.py:17: FutureWarning: The argument 'date_parser' is deprecated and will be removed in a future version. Please use 'date_format' instead, or read your data in as 'object' dtype and then call 'to_datetime'.\n",
      "  df = pd.read_csv(\n",
      "/tmp/ipykernel_2854990/2711608588.py:17: FutureWarning: The argument 'date_parser' is deprecated and will be removed in a future version. Please use 'date_format' instead, or read your data in as 'object' dtype and then call 'to_datetime'.\n",
      "  df = pd.read_csv(\n",
      "/tmp/ipykernel_2854990/2711608588.py:17: FutureWarning: The argument 'date_parser' is deprecated and will be removed in a future version. Please use 'date_format' instead, or read your data in as 'object' dtype and then call 'to_datetime'.\n",
      "  df = pd.read_csv(\n",
      "/tmp/ipykernel_2854990/2711608588.py:17: FutureWarning: The argument 'date_parser' is deprecated and will be removed in a future version. Please use 'date_format' instead, or read your data in as 'object' dtype and then call 'to_datetime'.\n",
      "  df = pd.read_csv(\n",
      "/tmp/ipykernel_2854990/2711608588.py:17: FutureWarning: The argument 'date_parser' is deprecated and will be removed in a future version. Please use 'date_format' instead, or read your data in as 'object' dtype and then call 'to_datetime'.\n",
      "  df = pd.read_csv(\n",
      "/tmp/ipykernel_2854990/2711608588.py:17: FutureWarning: The argument 'date_parser' is deprecated and will be removed in a future version. Please use 'date_format' instead, or read your data in as 'object' dtype and then call 'to_datetime'.\n",
      "  df = pd.read_csv(\n",
      "/tmp/ipykernel_2854990/2711608588.py:17: FutureWarning: The argument 'date_parser' is deprecated and will be removed in a future version. Please use 'date_format' instead, or read your data in as 'object' dtype and then call 'to_datetime'.\n",
      "  df = pd.read_csv(\n",
      "/tmp/ipykernel_2854990/2711608588.py:17: FutureWarning: The argument 'date_parser' is deprecated and will be removed in a future version. Please use 'date_format' instead, or read your data in as 'object' dtype and then call 'to_datetime'.\n",
      "  df = pd.read_csv(\n",
      "/tmp/ipykernel_2854990/2711608588.py:17: FutureWarning: The argument 'date_parser' is deprecated and will be removed in a future version. Please use 'date_format' instead, or read your data in as 'object' dtype and then call 'to_datetime'.\n",
      "  df = pd.read_csv(\n",
      "/tmp/ipykernel_2854990/2711608588.py:17: FutureWarning: The argument 'date_parser' is deprecated and will be removed in a future version. Please use 'date_format' instead, or read your data in as 'object' dtype and then call 'to_datetime'.\n",
      "  df = pd.read_csv(\n",
      "/tmp/ipykernel_2854990/2711608588.py:17: FutureWarning: The argument 'date_parser' is deprecated and will be removed in a future version. Please use 'date_format' instead, or read your data in as 'object' dtype and then call 'to_datetime'.\n",
      "  df = pd.read_csv(\n",
      "/tmp/ipykernel_2854990/2711608588.py:17: FutureWarning: The argument 'date_parser' is deprecated and will be removed in a future version. Please use 'date_format' instead, or read your data in as 'object' dtype and then call 'to_datetime'.\n",
      "  df = pd.read_csv(\n",
      "/tmp/ipykernel_2854990/2711608588.py:17: FutureWarning: The argument 'date_parser' is deprecated and will be removed in a future version. Please use 'date_format' instead, or read your data in as 'object' dtype and then call 'to_datetime'.\n",
      "  df = pd.read_csv(\n",
      "/tmp/ipykernel_2854990/2711608588.py:17: FutureWarning: The argument 'date_parser' is deprecated and will be removed in a future version. Please use 'date_format' instead, or read your data in as 'object' dtype and then call 'to_datetime'.\n",
      "  df = pd.read_csv(\n",
      "/tmp/ipykernel_2854990/2711608588.py:17: FutureWarning: The argument 'date_parser' is deprecated and will be removed in a future version. Please use 'date_format' instead, or read your data in as 'object' dtype and then call 'to_datetime'.\n",
      "  df = pd.read_csv(\n",
      "/tmp/ipykernel_2854990/2711608588.py:17: FutureWarning: The argument 'date_parser' is deprecated and will be removed in a future version. Please use 'date_format' instead, or read your data in as 'object' dtype and then call 'to_datetime'.\n",
      "  df = pd.read_csv(\n",
      "/tmp/ipykernel_2854990/2711608588.py:17: FutureWarning: The argument 'date_parser' is deprecated and will be removed in a future version. Please use 'date_format' instead, or read your data in as 'object' dtype and then call 'to_datetime'.\n",
      "  df = pd.read_csv(\n",
      "/tmp/ipykernel_2854990/2711608588.py:17: FutureWarning: The argument 'date_parser' is deprecated and will be removed in a future version. Please use 'date_format' instead, or read your data in as 'object' dtype and then call 'to_datetime'.\n",
      "  df = pd.read_csv(\n",
      "/tmp/ipykernel_2854990/2711608588.py:17: FutureWarning: The argument 'date_parser' is deprecated and will be removed in a future version. Please use 'date_format' instead, or read your data in as 'object' dtype and then call 'to_datetime'.\n",
      "  df = pd.read_csv(\n",
      "/tmp/ipykernel_2854990/2711608588.py:17: FutureWarning: The argument 'date_parser' is deprecated and will be removed in a future version. Please use 'date_format' instead, or read your data in as 'object' dtype and then call 'to_datetime'.\n",
      "  df = pd.read_csv(\n",
      "/tmp/ipykernel_2854990/2711608588.py:17: FutureWarning: The argument 'date_parser' is deprecated and will be removed in a future version. Please use 'date_format' instead, or read your data in as 'object' dtype and then call 'to_datetime'.\n",
      "  df = pd.read_csv(\n",
      "/tmp/ipykernel_2854990/2711608588.py:17: FutureWarning: The argument 'date_parser' is deprecated and will be removed in a future version. Please use 'date_format' instead, or read your data in as 'object' dtype and then call 'to_datetime'.\n",
      "  df = pd.read_csv(\n",
      "/tmp/ipykernel_2854990/2711608588.py:17: FutureWarning: The argument 'date_parser' is deprecated and will be removed in a future version. Please use 'date_format' instead, or read your data in as 'object' dtype and then call 'to_datetime'.\n",
      "  df = pd.read_csv(\n",
      "/tmp/ipykernel_2854990/2711608588.py:17: FutureWarning: The argument 'date_parser' is deprecated and will be removed in a future version. Please use 'date_format' instead, or read your data in as 'object' dtype and then call 'to_datetime'.\n",
      "  df = pd.read_csv(\n",
      "/tmp/ipykernel_2854990/2711608588.py:17: FutureWarning: The argument 'date_parser' is deprecated and will be removed in a future version. Please use 'date_format' instead, or read your data in as 'object' dtype and then call 'to_datetime'.\n",
      "  df = pd.read_csv(\n",
      "/tmp/ipykernel_2854990/2711608588.py:17: FutureWarning: The argument 'date_parser' is deprecated and will be removed in a future version. Please use 'date_format' instead, or read your data in as 'object' dtype and then call 'to_datetime'.\n",
      "  df = pd.read_csv(\n",
      "/tmp/ipykernel_2854990/2711608588.py:17: FutureWarning: The argument 'date_parser' is deprecated and will be removed in a future version. Please use 'date_format' instead, or read your data in as 'object' dtype and then call 'to_datetime'.\n",
      "  df = pd.read_csv(\n",
      "/tmp/ipykernel_2854990/2711608588.py:17: FutureWarning: The argument 'date_parser' is deprecated and will be removed in a future version. Please use 'date_format' instead, or read your data in as 'object' dtype and then call 'to_datetime'.\n",
      "  df = pd.read_csv(\n",
      "/tmp/ipykernel_2854990/2711608588.py:17: FutureWarning: The argument 'date_parser' is deprecated and will be removed in a future version. Please use 'date_format' instead, or read your data in as 'object' dtype and then call 'to_datetime'.\n",
      "  df = pd.read_csv(\n",
      "/tmp/ipykernel_2854990/2711608588.py:17: FutureWarning: The argument 'date_parser' is deprecated and will be removed in a future version. Please use 'date_format' instead, or read your data in as 'object' dtype and then call 'to_datetime'.\n",
      "  df = pd.read_csv(\n",
      "/tmp/ipykernel_2854990/2711608588.py:17: FutureWarning: The argument 'date_parser' is deprecated and will be removed in a future version. Please use 'date_format' instead, or read your data in as 'object' dtype and then call 'to_datetime'.\n",
      "  df = pd.read_csv(\n",
      "/tmp/ipykernel_2854990/2711608588.py:17: FutureWarning: The argument 'date_parser' is deprecated and will be removed in a future version. Please use 'date_format' instead, or read your data in as 'object' dtype and then call 'to_datetime'.\n",
      "  df = pd.read_csv(\n",
      "/tmp/ipykernel_2854990/2711608588.py:17: FutureWarning: The argument 'date_parser' is deprecated and will be removed in a future version. Please use 'date_format' instead, or read your data in as 'object' dtype and then call 'to_datetime'.\n",
      "  df = pd.read_csv(\n",
      "/tmp/ipykernel_2854990/2711608588.py:17: FutureWarning: The argument 'date_parser' is deprecated and will be removed in a future version. Please use 'date_format' instead, or read your data in as 'object' dtype and then call 'to_datetime'.\n",
      "  df = pd.read_csv(\n",
      "/tmp/ipykernel_2854990/2711608588.py:17: FutureWarning: The argument 'date_parser' is deprecated and will be removed in a future version. Please use 'date_format' instead, or read your data in as 'object' dtype and then call 'to_datetime'.\n",
      "  df = pd.read_csv(\n",
      "/tmp/ipykernel_2854990/2711608588.py:17: FutureWarning: The argument 'date_parser' is deprecated and will be removed in a future version. Please use 'date_format' instead, or read your data in as 'object' dtype and then call 'to_datetime'.\n",
      "  df = pd.read_csv(\n",
      "/tmp/ipykernel_2854990/2711608588.py:17: FutureWarning: The argument 'date_parser' is deprecated and will be removed in a future version. Please use 'date_format' instead, or read your data in as 'object' dtype and then call 'to_datetime'.\n",
      "  df = pd.read_csv(\n",
      "/tmp/ipykernel_2854990/2711608588.py:17: FutureWarning: The argument 'date_parser' is deprecated and will be removed in a future version. Please use 'date_format' instead, or read your data in as 'object' dtype and then call 'to_datetime'.\n",
      "  df = pd.read_csv(\n",
      "/tmp/ipykernel_2854990/2711608588.py:17: FutureWarning: The argument 'date_parser' is deprecated and will be removed in a future version. Please use 'date_format' instead, or read your data in as 'object' dtype and then call 'to_datetime'.\n",
      "  df = pd.read_csv(\n",
      "/tmp/ipykernel_2854990/2711608588.py:17: FutureWarning: The argument 'date_parser' is deprecated and will be removed in a future version. Please use 'date_format' instead, or read your data in as 'object' dtype and then call 'to_datetime'.\n",
      "  df = pd.read_csv(\n",
      "/tmp/ipykernel_2854990/2711608588.py:17: FutureWarning: The argument 'date_parser' is deprecated and will be removed in a future version. Please use 'date_format' instead, or read your data in as 'object' dtype and then call 'to_datetime'.\n",
      "  df = pd.read_csv(\n",
      "/tmp/ipykernel_2854990/2711608588.py:17: FutureWarning: The argument 'date_parser' is deprecated and will be removed in a future version. Please use 'date_format' instead, or read your data in as 'object' dtype and then call 'to_datetime'.\n",
      "  df = pd.read_csv(\n",
      "/tmp/ipykernel_2854990/2711608588.py:17: FutureWarning: The argument 'date_parser' is deprecated and will be removed in a future version. Please use 'date_format' instead, or read your data in as 'object' dtype and then call 'to_datetime'.\n",
      "  df = pd.read_csv(\n",
      "/tmp/ipykernel_2854990/2711608588.py:17: FutureWarning: The argument 'date_parser' is deprecated and will be removed in a future version. Please use 'date_format' instead, or read your data in as 'object' dtype and then call 'to_datetime'.\n",
      "  df = pd.read_csv(\n",
      "/tmp/ipykernel_2854990/2711608588.py:17: FutureWarning: The argument 'date_parser' is deprecated and will be removed in a future version. Please use 'date_format' instead, or read your data in as 'object' dtype and then call 'to_datetime'.\n",
      "  df = pd.read_csv(\n",
      "/tmp/ipykernel_2854990/2711608588.py:17: FutureWarning: The argument 'date_parser' is deprecated and will be removed in a future version. Please use 'date_format' instead, or read your data in as 'object' dtype and then call 'to_datetime'.\n",
      "  df = pd.read_csv(\n",
      "/tmp/ipykernel_2854990/2711608588.py:17: FutureWarning: The argument 'date_parser' is deprecated and will be removed in a future version. Please use 'date_format' instead, or read your data in as 'object' dtype and then call 'to_datetime'.\n",
      "  df = pd.read_csv(\n",
      "/tmp/ipykernel_2854990/2711608588.py:17: FutureWarning: The argument 'date_parser' is deprecated and will be removed in a future version. Please use 'date_format' instead, or read your data in as 'object' dtype and then call 'to_datetime'.\n",
      "  df = pd.read_csv(\n",
      "/tmp/ipykernel_2854990/2711608588.py:17: FutureWarning: The argument 'date_parser' is deprecated and will be removed in a future version. Please use 'date_format' instead, or read your data in as 'object' dtype and then call 'to_datetime'.\n",
      "  df = pd.read_csv(\n",
      "/tmp/ipykernel_2854990/2711608588.py:17: FutureWarning: The argument 'date_parser' is deprecated and will be removed in a future version. Please use 'date_format' instead, or read your data in as 'object' dtype and then call 'to_datetime'.\n",
      "  df = pd.read_csv(\n",
      "/tmp/ipykernel_2854990/2711608588.py:17: FutureWarning: The argument 'date_parser' is deprecated and will be removed in a future version. Please use 'date_format' instead, or read your data in as 'object' dtype and then call 'to_datetime'.\n",
      "  df = pd.read_csv(\n",
      "/tmp/ipykernel_2854990/2711608588.py:17: FutureWarning: The argument 'date_parser' is deprecated and will be removed in a future version. Please use 'date_format' instead, or read your data in as 'object' dtype and then call 'to_datetime'.\n",
      "  df = pd.read_csv(\n",
      "/tmp/ipykernel_2854990/2711608588.py:17: FutureWarning: The argument 'date_parser' is deprecated and will be removed in a future version. Please use 'date_format' instead, or read your data in as 'object' dtype and then call 'to_datetime'.\n",
      "  df = pd.read_csv(\n",
      "/tmp/ipykernel_2854990/2711608588.py:17: FutureWarning: The argument 'date_parser' is deprecated and will be removed in a future version. Please use 'date_format' instead, or read your data in as 'object' dtype and then call 'to_datetime'.\n",
      "  df = pd.read_csv(\n",
      "/tmp/ipykernel_2854990/2711608588.py:17: FutureWarning: The argument 'date_parser' is deprecated and will be removed in a future version. Please use 'date_format' instead, or read your data in as 'object' dtype and then call 'to_datetime'.\n",
      "  df = pd.read_csv(\n",
      "/tmp/ipykernel_2854990/2711608588.py:17: FutureWarning: The argument 'date_parser' is deprecated and will be removed in a future version. Please use 'date_format' instead, or read your data in as 'object' dtype and then call 'to_datetime'.\n",
      "  df = pd.read_csv(\n",
      "/tmp/ipykernel_2854990/2711608588.py:17: FutureWarning: The argument 'date_parser' is deprecated and will be removed in a future version. Please use 'date_format' instead, or read your data in as 'object' dtype and then call 'to_datetime'.\n",
      "  df = pd.read_csv(\n",
      "/tmp/ipykernel_2854990/2711608588.py:17: FutureWarning: The argument 'date_parser' is deprecated and will be removed in a future version. Please use 'date_format' instead, or read your data in as 'object' dtype and then call 'to_datetime'.\n",
      "  df = pd.read_csv(\n",
      "/tmp/ipykernel_2854990/2711608588.py:17: FutureWarning: The argument 'date_parser' is deprecated and will be removed in a future version. Please use 'date_format' instead, or read your data in as 'object' dtype and then call 'to_datetime'.\n",
      "  df = pd.read_csv(\n",
      "/tmp/ipykernel_2854990/2711608588.py:17: FutureWarning: The argument 'date_parser' is deprecated and will be removed in a future version. Please use 'date_format' instead, or read your data in as 'object' dtype and then call 'to_datetime'.\n",
      "  df = pd.read_csv(\n",
      "/tmp/ipykernel_2854990/2711608588.py:17: FutureWarning: The argument 'date_parser' is deprecated and will be removed in a future version. Please use 'date_format' instead, or read your data in as 'object' dtype and then call 'to_datetime'.\n",
      "  df = pd.read_csv(\n",
      "/tmp/ipykernel_2854990/2711608588.py:17: FutureWarning: The argument 'date_parser' is deprecated and will be removed in a future version. Please use 'date_format' instead, or read your data in as 'object' dtype and then call 'to_datetime'.\n",
      "  df = pd.read_csv(\n",
      "/tmp/ipykernel_2854990/2711608588.py:17: FutureWarning: The argument 'date_parser' is deprecated and will be removed in a future version. Please use 'date_format' instead, or read your data in as 'object' dtype and then call 'to_datetime'.\n",
      "  df = pd.read_csv(\n",
      "/tmp/ipykernel_2854990/2711608588.py:17: FutureWarning: The argument 'date_parser' is deprecated and will be removed in a future version. Please use 'date_format' instead, or read your data in as 'object' dtype and then call 'to_datetime'.\n",
      "  df = pd.read_csv(\n",
      "/tmp/ipykernel_2854990/2711608588.py:17: FutureWarning: The argument 'date_parser' is deprecated and will be removed in a future version. Please use 'date_format' instead, or read your data in as 'object' dtype and then call 'to_datetime'.\n",
      "  df = pd.read_csv(\n",
      "/tmp/ipykernel_2854990/2711608588.py:17: FutureWarning: The argument 'date_parser' is deprecated and will be removed in a future version. Please use 'date_format' instead, or read your data in as 'object' dtype and then call 'to_datetime'.\n",
      "  df = pd.read_csv(\n",
      "/tmp/ipykernel_2854990/2711608588.py:17: FutureWarning: The argument 'date_parser' is deprecated and will be removed in a future version. Please use 'date_format' instead, or read your data in as 'object' dtype and then call 'to_datetime'.\n",
      "  df = pd.read_csv(\n",
      "/tmp/ipykernel_2854990/2711608588.py:17: FutureWarning: The argument 'date_parser' is deprecated and will be removed in a future version. Please use 'date_format' instead, or read your data in as 'object' dtype and then call 'to_datetime'.\n",
      "  df = pd.read_csv(\n",
      "/tmp/ipykernel_2854990/2711608588.py:17: FutureWarning: The argument 'date_parser' is deprecated and will be removed in a future version. Please use 'date_format' instead, or read your data in as 'object' dtype and then call 'to_datetime'.\n",
      "  df = pd.read_csv(\n",
      "/tmp/ipykernel_2854990/2711608588.py:17: FutureWarning: The argument 'date_parser' is deprecated and will be removed in a future version. Please use 'date_format' instead, or read your data in as 'object' dtype and then call 'to_datetime'.\n",
      "  df = pd.read_csv(\n",
      "/tmp/ipykernel_2854990/2711608588.py:17: FutureWarning: The argument 'date_parser' is deprecated and will be removed in a future version. Please use 'date_format' instead, or read your data in as 'object' dtype and then call 'to_datetime'.\n",
      "  df = pd.read_csv(\n",
      "/tmp/ipykernel_2854990/2711608588.py:17: FutureWarning: The argument 'date_parser' is deprecated and will be removed in a future version. Please use 'date_format' instead, or read your data in as 'object' dtype and then call 'to_datetime'.\n",
      "  df = pd.read_csv(\n",
      "/tmp/ipykernel_2854990/2711608588.py:17: FutureWarning: The argument 'date_parser' is deprecated and will be removed in a future version. Please use 'date_format' instead, or read your data in as 'object' dtype and then call 'to_datetime'.\n",
      "  df = pd.read_csv(\n",
      "/tmp/ipykernel_2854990/2711608588.py:17: FutureWarning: The argument 'date_parser' is deprecated and will be removed in a future version. Please use 'date_format' instead, or read your data in as 'object' dtype and then call 'to_datetime'.\n",
      "  df = pd.read_csv(\n",
      "/tmp/ipykernel_2854990/2711608588.py:17: FutureWarning: The argument 'date_parser' is deprecated and will be removed in a future version. Please use 'date_format' instead, or read your data in as 'object' dtype and then call 'to_datetime'.\n",
      "  df = pd.read_csv(\n",
      "/tmp/ipykernel_2854990/2711608588.py:17: FutureWarning: The argument 'date_parser' is deprecated and will be removed in a future version. Please use 'date_format' instead, or read your data in as 'object' dtype and then call 'to_datetime'.\n",
      "  df = pd.read_csv(\n",
      "/tmp/ipykernel_2854990/2711608588.py:17: FutureWarning: The argument 'date_parser' is deprecated and will be removed in a future version. Please use 'date_format' instead, or read your data in as 'object' dtype and then call 'to_datetime'.\n",
      "  df = pd.read_csv(\n",
      "/tmp/ipykernel_2854990/2711608588.py:17: FutureWarning: The argument 'date_parser' is deprecated and will be removed in a future version. Please use 'date_format' instead, or read your data in as 'object' dtype and then call 'to_datetime'.\n",
      "  df = pd.read_csv(\n",
      "/tmp/ipykernel_2854990/2711608588.py:17: FutureWarning: The argument 'date_parser' is deprecated and will be removed in a future version. Please use 'date_format' instead, or read your data in as 'object' dtype and then call 'to_datetime'.\n",
      "  df = pd.read_csv(\n",
      "/tmp/ipykernel_2854990/2711608588.py:17: FutureWarning: The argument 'date_parser' is deprecated and will be removed in a future version. Please use 'date_format' instead, or read your data in as 'object' dtype and then call 'to_datetime'.\n",
      "  df = pd.read_csv(\n",
      "/tmp/ipykernel_2854990/2711608588.py:17: FutureWarning: The argument 'date_parser' is deprecated and will be removed in a future version. Please use 'date_format' instead, or read your data in as 'object' dtype and then call 'to_datetime'.\n",
      "  df = pd.read_csv(\n",
      "/tmp/ipykernel_2854990/2711608588.py:17: FutureWarning: The argument 'date_parser' is deprecated and will be removed in a future version. Please use 'date_format' instead, or read your data in as 'object' dtype and then call 'to_datetime'.\n",
      "  df = pd.read_csv(\n",
      "/tmp/ipykernel_2854990/2711608588.py:17: FutureWarning: The argument 'date_parser' is deprecated and will be removed in a future version. Please use 'date_format' instead, or read your data in as 'object' dtype and then call 'to_datetime'.\n",
      "  df = pd.read_csv(\n",
      "/tmp/ipykernel_2854990/2711608588.py:17: FutureWarning: The argument 'date_parser' is deprecated and will be removed in a future version. Please use 'date_format' instead, or read your data in as 'object' dtype and then call 'to_datetime'.\n",
      "  df = pd.read_csv(\n",
      "/tmp/ipykernel_2854990/2711608588.py:17: FutureWarning: The argument 'date_parser' is deprecated and will be removed in a future version. Please use 'date_format' instead, or read your data in as 'object' dtype and then call 'to_datetime'.\n",
      "  df = pd.read_csv(\n",
      "/tmp/ipykernel_2854990/2711608588.py:17: FutureWarning: The argument 'date_parser' is deprecated and will be removed in a future version. Please use 'date_format' instead, or read your data in as 'object' dtype and then call 'to_datetime'.\n",
      "  df = pd.read_csv(\n",
      "/tmp/ipykernel_2854990/2711608588.py:17: FutureWarning: The argument 'date_parser' is deprecated and will be removed in a future version. Please use 'date_format' instead, or read your data in as 'object' dtype and then call 'to_datetime'.\n",
      "  df = pd.read_csv(\n",
      "/tmp/ipykernel_2854990/2711608588.py:17: FutureWarning: The argument 'date_parser' is deprecated and will be removed in a future version. Please use 'date_format' instead, or read your data in as 'object' dtype and then call 'to_datetime'.\n",
      "  df = pd.read_csv(\n",
      "/tmp/ipykernel_2854990/2711608588.py:17: FutureWarning: The argument 'date_parser' is deprecated and will be removed in a future version. Please use 'date_format' instead, or read your data in as 'object' dtype and then call 'to_datetime'.\n",
      "  df = pd.read_csv(\n",
      "/tmp/ipykernel_2854990/2711608588.py:17: FutureWarning: The argument 'date_parser' is deprecated and will be removed in a future version. Please use 'date_format' instead, or read your data in as 'object' dtype and then call 'to_datetime'.\n",
      "  df = pd.read_csv(\n",
      "/tmp/ipykernel_2854990/2711608588.py:17: FutureWarning: The argument 'date_parser' is deprecated and will be removed in a future version. Please use 'date_format' instead, or read your data in as 'object' dtype and then call 'to_datetime'.\n",
      "  df = pd.read_csv(\n",
      "/tmp/ipykernel_2854990/2711608588.py:17: FutureWarning: The argument 'date_parser' is deprecated and will be removed in a future version. Please use 'date_format' instead, or read your data in as 'object' dtype and then call 'to_datetime'.\n",
      "  df = pd.read_csv(\n",
      "/tmp/ipykernel_2854990/2711608588.py:17: FutureWarning: The argument 'date_parser' is deprecated and will be removed in a future version. Please use 'date_format' instead, or read your data in as 'object' dtype and then call 'to_datetime'.\n",
      "  df = pd.read_csv(\n",
      "/tmp/ipykernel_2854990/2711608588.py:17: FutureWarning: The argument 'date_parser' is deprecated and will be removed in a future version. Please use 'date_format' instead, or read your data in as 'object' dtype and then call 'to_datetime'.\n",
      "  df = pd.read_csv(\n",
      "/tmp/ipykernel_2854990/2711608588.py:17: FutureWarning: The argument 'date_parser' is deprecated and will be removed in a future version. Please use 'date_format' instead, or read your data in as 'object' dtype and then call 'to_datetime'.\n",
      "  df = pd.read_csv(\n",
      "/tmp/ipykernel_2854990/2711608588.py:17: FutureWarning: The argument 'date_parser' is deprecated and will be removed in a future version. Please use 'date_format' instead, or read your data in as 'object' dtype and then call 'to_datetime'.\n",
      "  df = pd.read_csv(\n",
      "/tmp/ipykernel_2854990/2711608588.py:17: FutureWarning: The argument 'date_parser' is deprecated and will be removed in a future version. Please use 'date_format' instead, or read your data in as 'object' dtype and then call 'to_datetime'.\n",
      "  df = pd.read_csv(\n",
      "/tmp/ipykernel_2854990/2711608588.py:17: FutureWarning: The argument 'date_parser' is deprecated and will be removed in a future version. Please use 'date_format' instead, or read your data in as 'object' dtype and then call 'to_datetime'.\n",
      "  df = pd.read_csv(\n",
      "/tmp/ipykernel_2854990/2711608588.py:17: FutureWarning: The argument 'date_parser' is deprecated and will be removed in a future version. Please use 'date_format' instead, or read your data in as 'object' dtype and then call 'to_datetime'.\n",
      "  df = pd.read_csv(\n",
      "/tmp/ipykernel_2854990/2711608588.py:17: FutureWarning: The argument 'date_parser' is deprecated and will be removed in a future version. Please use 'date_format' instead, or read your data in as 'object' dtype and then call 'to_datetime'.\n",
      "  df = pd.read_csv(\n",
      "/tmp/ipykernel_2854990/2711608588.py:17: FutureWarning: The argument 'date_parser' is deprecated and will be removed in a future version. Please use 'date_format' instead, or read your data in as 'object' dtype and then call 'to_datetime'.\n",
      "  df = pd.read_csv(\n",
      "/tmp/ipykernel_2854990/2711608588.py:17: FutureWarning: The argument 'date_parser' is deprecated and will be removed in a future version. Please use 'date_format' instead, or read your data in as 'object' dtype and then call 'to_datetime'.\n",
      "  df = pd.read_csv(\n",
      "/tmp/ipykernel_2854990/2711608588.py:17: FutureWarning: The argument 'date_parser' is deprecated and will be removed in a future version. Please use 'date_format' instead, or read your data in as 'object' dtype and then call 'to_datetime'.\n",
      "  df = pd.read_csv(\n",
      "/tmp/ipykernel_2854990/2711608588.py:17: FutureWarning: The argument 'date_parser' is deprecated and will be removed in a future version. Please use 'date_format' instead, or read your data in as 'object' dtype and then call 'to_datetime'.\n",
      "  df = pd.read_csv(\n",
      "/tmp/ipykernel_2854990/2711608588.py:17: FutureWarning: The argument 'date_parser' is deprecated and will be removed in a future version. Please use 'date_format' instead, or read your data in as 'object' dtype and then call 'to_datetime'.\n",
      "  df = pd.read_csv(\n",
      "/tmp/ipykernel_2854990/2711608588.py:17: FutureWarning: The argument 'date_parser' is deprecated and will be removed in a future version. Please use 'date_format' instead, or read your data in as 'object' dtype and then call 'to_datetime'.\n",
      "  df = pd.read_csv(\n",
      "/tmp/ipykernel_2854990/2711608588.py:17: FutureWarning: The argument 'date_parser' is deprecated and will be removed in a future version. Please use 'date_format' instead, or read your data in as 'object' dtype and then call 'to_datetime'.\n",
      "  df = pd.read_csv(\n",
      "/tmp/ipykernel_2854990/2711608588.py:17: FutureWarning: The argument 'date_parser' is deprecated and will be removed in a future version. Please use 'date_format' instead, or read your data in as 'object' dtype and then call 'to_datetime'.\n",
      "  df = pd.read_csv(\n",
      "/tmp/ipykernel_2854990/2711608588.py:17: FutureWarning: The argument 'date_parser' is deprecated and will be removed in a future version. Please use 'date_format' instead, or read your data in as 'object' dtype and then call 'to_datetime'.\n",
      "  df = pd.read_csv(\n",
      "/tmp/ipykernel_2854990/2711608588.py:17: FutureWarning: The argument 'date_parser' is deprecated and will be removed in a future version. Please use 'date_format' instead, or read your data in as 'object' dtype and then call 'to_datetime'.\n",
      "  df = pd.read_csv(\n",
      "/tmp/ipykernel_2854990/2711608588.py:17: FutureWarning: The argument 'date_parser' is deprecated and will be removed in a future version. Please use 'date_format' instead, or read your data in as 'object' dtype and then call 'to_datetime'.\n",
      "  df = pd.read_csv(\n",
      "/tmp/ipykernel_2854990/2711608588.py:17: FutureWarning: The argument 'date_parser' is deprecated and will be removed in a future version. Please use 'date_format' instead, or read your data in as 'object' dtype and then call 'to_datetime'.\n",
      "  df = pd.read_csv(\n",
      "/tmp/ipykernel_2854990/2711608588.py:17: FutureWarning: The argument 'date_parser' is deprecated and will be removed in a future version. Please use 'date_format' instead, or read your data in as 'object' dtype and then call 'to_datetime'.\n",
      "  df = pd.read_csv(\n",
      "/tmp/ipykernel_2854990/2711608588.py:17: FutureWarning: The argument 'date_parser' is deprecated and will be removed in a future version. Please use 'date_format' instead, or read your data in as 'object' dtype and then call 'to_datetime'.\n",
      "  df = pd.read_csv(\n",
      "/tmp/ipykernel_2854990/2711608588.py:17: FutureWarning: The argument 'date_parser' is deprecated and will be removed in a future version. Please use 'date_format' instead, or read your data in as 'object' dtype and then call 'to_datetime'.\n",
      "  df = pd.read_csv(\n",
      "/tmp/ipykernel_2854990/2711608588.py:17: FutureWarning: The argument 'date_parser' is deprecated and will be removed in a future version. Please use 'date_format' instead, or read your data in as 'object' dtype and then call 'to_datetime'.\n",
      "  df = pd.read_csv(\n",
      "/tmp/ipykernel_2854990/2711608588.py:17: FutureWarning: The argument 'date_parser' is deprecated and will be removed in a future version. Please use 'date_format' instead, or read your data in as 'object' dtype and then call 'to_datetime'.\n",
      "  df = pd.read_csv(\n",
      "/tmp/ipykernel_2854990/2711608588.py:17: FutureWarning: The argument 'date_parser' is deprecated and will be removed in a future version. Please use 'date_format' instead, or read your data in as 'object' dtype and then call 'to_datetime'.\n",
      "  df = pd.read_csv(\n",
      "/tmp/ipykernel_2854990/2711608588.py:17: FutureWarning: The argument 'date_parser' is deprecated and will be removed in a future version. Please use 'date_format' instead, or read your data in as 'object' dtype and then call 'to_datetime'.\n",
      "  df = pd.read_csv(\n",
      "/tmp/ipykernel_2854990/2711608588.py:17: FutureWarning: The argument 'date_parser' is deprecated and will be removed in a future version. Please use 'date_format' instead, or read your data in as 'object' dtype and then call 'to_datetime'.\n",
      "  df = pd.read_csv(\n",
      "/tmp/ipykernel_2854990/2711608588.py:17: FutureWarning: The argument 'date_parser' is deprecated and will be removed in a future version. Please use 'date_format' instead, or read your data in as 'object' dtype and then call 'to_datetime'.\n",
      "  df = pd.read_csv(\n",
      "/tmp/ipykernel_2854990/2711608588.py:17: FutureWarning: The argument 'date_parser' is deprecated and will be removed in a future version. Please use 'date_format' instead, or read your data in as 'object' dtype and then call 'to_datetime'.\n",
      "  df = pd.read_csv(\n",
      "/tmp/ipykernel_2854990/2711608588.py:17: FutureWarning: The argument 'date_parser' is deprecated and will be removed in a future version. Please use 'date_format' instead, or read your data in as 'object' dtype and then call 'to_datetime'.\n",
      "  df = pd.read_csv(\n",
      "/tmp/ipykernel_2854990/2711608588.py:17: FutureWarning: The argument 'date_parser' is deprecated and will be removed in a future version. Please use 'date_format' instead, or read your data in as 'object' dtype and then call 'to_datetime'.\n",
      "  df = pd.read_csv(\n",
      "/tmp/ipykernel_2854990/2711608588.py:17: FutureWarning: The argument 'date_parser' is deprecated and will be removed in a future version. Please use 'date_format' instead, or read your data in as 'object' dtype and then call 'to_datetime'.\n",
      "  df = pd.read_csv(\n",
      "/tmp/ipykernel_2854990/2711608588.py:17: FutureWarning: The argument 'date_parser' is deprecated and will be removed in a future version. Please use 'date_format' instead, or read your data in as 'object' dtype and then call 'to_datetime'.\n",
      "  df = pd.read_csv(\n",
      "/tmp/ipykernel_2854990/2711608588.py:17: FutureWarning: The argument 'date_parser' is deprecated and will be removed in a future version. Please use 'date_format' instead, or read your data in as 'object' dtype and then call 'to_datetime'.\n",
      "  df = pd.read_csv(\n",
      "/tmp/ipykernel_2854990/2711608588.py:17: FutureWarning: The argument 'date_parser' is deprecated and will be removed in a future version. Please use 'date_format' instead, or read your data in as 'object' dtype and then call 'to_datetime'.\n",
      "  df = pd.read_csv(\n",
      "/tmp/ipykernel_2854990/2711608588.py:17: FutureWarning: The argument 'date_parser' is deprecated and will be removed in a future version. Please use 'date_format' instead, or read your data in as 'object' dtype and then call 'to_datetime'.\n",
      "  df = pd.read_csv(\n",
      "/tmp/ipykernel_2854990/2711608588.py:17: FutureWarning: The argument 'date_parser' is deprecated and will be removed in a future version. Please use 'date_format' instead, or read your data in as 'object' dtype and then call 'to_datetime'.\n",
      "  df = pd.read_csv(\n",
      "/tmp/ipykernel_2854990/2711608588.py:17: FutureWarning: The argument 'date_parser' is deprecated and will be removed in a future version. Please use 'date_format' instead, or read your data in as 'object' dtype and then call 'to_datetime'.\n",
      "  df = pd.read_csv(\n",
      "/tmp/ipykernel_2854990/2711608588.py:17: FutureWarning: The argument 'date_parser' is deprecated and will be removed in a future version. Please use 'date_format' instead, or read your data in as 'object' dtype and then call 'to_datetime'.\n",
      "  df = pd.read_csv(\n",
      "/tmp/ipykernel_2854990/2711608588.py:17: FutureWarning: The argument 'date_parser' is deprecated and will be removed in a future version. Please use 'date_format' instead, or read your data in as 'object' dtype and then call 'to_datetime'.\n",
      "  df = pd.read_csv(\n",
      "/tmp/ipykernel_2854990/2711608588.py:17: FutureWarning: The argument 'date_parser' is deprecated and will be removed in a future version. Please use 'date_format' instead, or read your data in as 'object' dtype and then call 'to_datetime'.\n",
      "  df = pd.read_csv(\n",
      "/tmp/ipykernel_2854990/2711608588.py:17: FutureWarning: The argument 'date_parser' is deprecated and will be removed in a future version. Please use 'date_format' instead, or read your data in as 'object' dtype and then call 'to_datetime'.\n",
      "  df = pd.read_csv(\n",
      "/tmp/ipykernel_2854990/2711608588.py:17: FutureWarning: The argument 'date_parser' is deprecated and will be removed in a future version. Please use 'date_format' instead, or read your data in as 'object' dtype and then call 'to_datetime'.\n",
      "  df = pd.read_csv(\n",
      "/tmp/ipykernel_2854990/2711608588.py:17: FutureWarning: The argument 'date_parser' is deprecated and will be removed in a future version. Please use 'date_format' instead, or read your data in as 'object' dtype and then call 'to_datetime'.\n",
      "  df = pd.read_csv(\n",
      "/tmp/ipykernel_2854990/2711608588.py:17: FutureWarning: The argument 'date_parser' is deprecated and will be removed in a future version. Please use 'date_format' instead, or read your data in as 'object' dtype and then call 'to_datetime'.\n",
      "  df = pd.read_csv(\n",
      "/tmp/ipykernel_2854990/2711608588.py:17: FutureWarning: The argument 'date_parser' is deprecated and will be removed in a future version. Please use 'date_format' instead, or read your data in as 'object' dtype and then call 'to_datetime'.\n",
      "  df = pd.read_csv(\n",
      "/tmp/ipykernel_2854990/2711608588.py:17: FutureWarning: The argument 'date_parser' is deprecated and will be removed in a future version. Please use 'date_format' instead, or read your data in as 'object' dtype and then call 'to_datetime'.\n",
      "  df = pd.read_csv(\n",
      "/tmp/ipykernel_2854990/2711608588.py:17: FutureWarning: The argument 'date_parser' is deprecated and will be removed in a future version. Please use 'date_format' instead, or read your data in as 'object' dtype and then call 'to_datetime'.\n",
      "  df = pd.read_csv(\n",
      "/tmp/ipykernel_2854990/2711608588.py:17: FutureWarning: The argument 'date_parser' is deprecated and will be removed in a future version. Please use 'date_format' instead, or read your data in as 'object' dtype and then call 'to_datetime'.\n",
      "  df = pd.read_csv(\n",
      "/tmp/ipykernel_2854990/2711608588.py:17: FutureWarning: The argument 'date_parser' is deprecated and will be removed in a future version. Please use 'date_format' instead, or read your data in as 'object' dtype and then call 'to_datetime'.\n",
      "  df = pd.read_csv(\n",
      "/tmp/ipykernel_2854990/2711608588.py:17: FutureWarning: The argument 'date_parser' is deprecated and will be removed in a future version. Please use 'date_format' instead, or read your data in as 'object' dtype and then call 'to_datetime'.\n",
      "  df = pd.read_csv(\n",
      "/tmp/ipykernel_2854990/2711608588.py:17: FutureWarning: The argument 'date_parser' is deprecated and will be removed in a future version. Please use 'date_format' instead, or read your data in as 'object' dtype and then call 'to_datetime'.\n",
      "  df = pd.read_csv(\n",
      "/tmp/ipykernel_2854990/2711608588.py:17: FutureWarning: The argument 'date_parser' is deprecated and will be removed in a future version. Please use 'date_format' instead, or read your data in as 'object' dtype and then call 'to_datetime'.\n",
      "  df = pd.read_csv(\n",
      "/tmp/ipykernel_2854990/2711608588.py:17: FutureWarning: The argument 'date_parser' is deprecated and will be removed in a future version. Please use 'date_format' instead, or read your data in as 'object' dtype and then call 'to_datetime'.\n",
      "  df = pd.read_csv(\n",
      "/tmp/ipykernel_2854990/2711608588.py:17: FutureWarning: The argument 'date_parser' is deprecated and will be removed in a future version. Please use 'date_format' instead, or read your data in as 'object' dtype and then call 'to_datetime'.\n",
      "  df = pd.read_csv(\n",
      "/tmp/ipykernel_2854990/2711608588.py:17: FutureWarning: The argument 'date_parser' is deprecated and will be removed in a future version. Please use 'date_format' instead, or read your data in as 'object' dtype and then call 'to_datetime'.\n",
      "  df = pd.read_csv(\n",
      "/tmp/ipykernel_2854990/2711608588.py:17: FutureWarning: The argument 'date_parser' is deprecated and will be removed in a future version. Please use 'date_format' instead, or read your data in as 'object' dtype and then call 'to_datetime'.\n",
      "  df = pd.read_csv(\n",
      "/tmp/ipykernel_2854990/2711608588.py:17: FutureWarning: The argument 'date_parser' is deprecated and will be removed in a future version. Please use 'date_format' instead, or read your data in as 'object' dtype and then call 'to_datetime'.\n",
      "  df = pd.read_csv(\n",
      "/tmp/ipykernel_2854990/2711608588.py:17: FutureWarning: The argument 'date_parser' is deprecated and will be removed in a future version. Please use 'date_format' instead, or read your data in as 'object' dtype and then call 'to_datetime'.\n",
      "  df = pd.read_csv(\n"
     ]
    }
   ],
   "source": [
    "mdata,pgrid,vgrid = get_market_data(ticker)\n",
    "ix = (mdata['HIGH']<=1.1*mdata['VWAP'])&(mdata['LOW']>=0.9*mdata['VWAP'])\n",
    "mdata,pgrid,vgrid = mdata[ix],pgrid[ix],vgrid[ix]\n",
    "#mdata = mdata.groupby(mdata.index).last()"
   ]
  },
  {
   "cell_type": "code",
   "execution_count": 163,
   "id": "73c26493-5053-425c-bf1b-85a12f88652c",
   "metadata": {
    "tags": []
   },
   "outputs": [],
   "source": [
    "returns_ahead = mdata['LAST'].pct_change().shift(-1).fillna(0)\n",
    "\n",
    "# EXCLUDING NON-STATIONARY DATA HARD-CODED.\n",
    "mdata.drop(['BEST_BID','BEST_ASK','LAST','HIGH','LOW','VWAP'],axis=1,inplace=True)"
   ]
  },
  {
   "cell_type": "code",
   "execution_count": 164,
   "id": "a1b0147f-7ecc-4775-b776-ed8aa57a10fa",
   "metadata": {
    "tags": []
   },
   "outputs": [
    {
     "data": {
      "text/plain": [
       "<Axes: >"
      ]
     },
     "execution_count": 164,
     "metadata": {},
     "output_type": "execute_result"
    },
    {
     "data": {
      "image/png": "[encoded data removed]",
      "text/plain": [
       "<Figure size 640x480 with 1 Axes>"
      ]
     },
     "metadata": {},
     "output_type": "display_data"
    }
   ],
   "source": [
    "pgrid.iloc[0].plot(kind='bar')"
   ]
  },
  {
   "cell_type": "code",
   "execution_count": 165,
   "id": "a7fb10d5-aa37-43f8-9c71-9614a576a7d3",
   "metadata": {
    "tags": []
   },
   "outputs": [
    {
     "data": {
      "text/plain": [
       "<Axes: >"
      ]
     },
     "execution_count": 165,
     "metadata": {},
     "output_type": "execute_result"
    },
    {
     "data": {
      "image/png": "[encoded data removed]",
      "text/plain": [
       "<Figure size 640x480 with 1 Axes>"
      ]
     },
     "metadata": {},
     "output_type": "display_data"
    }
   ],
   "source": [
    "pd.concat([pgrid.iloc[0].iloc[:19][::-1].cumsum()[::-1],pgrid.iloc[0].iloc[19:].cumsum()]).plot(kind='bar')"
   ]
  },
  {
   "cell_type": "code",
   "execution_count": 166,
   "id": "8d5c0097-07ff-46f8-bea1-ad716a052b81",
   "metadata": {
    "tags": []
   },
   "outputs": [],
   "source": [
    "# transform data to convolution-compatible format such that it has dimension=3 and second dimension corresponds to the channels number (1)\n",
    "DEVICE = 'cpu'\n",
    "P_t = torch.tensor(pgrid.values,dtype=torch.float32,device=DEVICE)[:,None,:]"
   ]
  },
  {
   "cell_type": "code",
   "execution_count": 167,
   "id": "34712fa1-9f80-48ee-8ca5-e32e01940214",
   "metadata": {
    "tags": []
   },
   "outputs": [
    {
     "data": {
      "text/plain": [
       "torch.Size([458332, 1, 39])"
      ]
     },
     "execution_count": 167,
     "metadata": {},
     "output_type": "execute_result"
    }
   ],
   "source": [
    "P_t.shape"
   ]
  },
  {
   "cell_type": "code",
   "execution_count": 168,
   "id": "46947340-5485-46a0-a8a2-25a314b5ad10",
   "metadata": {
    "tags": []
   },
   "outputs": [],
   "source": [
    "l1 = nn.Conv1d(in_channels=1,out_channels=5,kernel_size=5,stride=1)"
   ]
  },
  {
   "cell_type": "code",
   "execution_count": 169,
   "id": "8ea4f922-769c-43d1-90b3-6c2960953f59",
   "metadata": {
    "tags": []
   },
   "outputs": [
    {
     "data": {
      "text/plain": [
       "torch.Size([458332, 5, 35])"
      ]
     },
     "execution_count": 169,
     "metadata": {},
     "output_type": "execute_result"
    }
   ],
   "source": [
    "l1(P_t).shape"
   ]
  },
  {
   "cell_type": "code",
   "execution_count": 170,
   "id": "1e0b5799-3592-49f5-a9eb-962ade97f125",
   "metadata": {
    "tags": []
   },
   "outputs": [
    {
     "data": {
      "text/plain": [
       "'\\nPlease implement (at the latest stage) here the following neural network\\n\\n                  => Linear[features:33->hid_size1] => ReLU => \\n                  => Linear[features:hid_size1->hid_size2] => ReLU =>\\n                  => Linear[features:hid_size2->1] => ReLU\\n                /                                                            Features (33,39)                                                              => ReLU => Linear[features:10->1]\\n                \\\\                                                            /\\n                  => Convolution[channels:1->5,kernel=5,stride=2] => ReLU =>\\n                  => Convolution[channels:5->5,kernel=5,stride=2] => ReLU =>\\n                  => Convolution[channels:5->5,kernel=4,stride=1] => ReLU =>\\n                  => Flatten on {1,2} => Linear[25->9] => ReLU\\n\\nPlease use the following interfaces\\n\\nnn.Linear - for linear transform\\nnn.Conv1d - for convolution\\nnn.Flatten - for flattening\\nnn.ReLU - for ReLU\\ntorch.concat - to concatenate tensors (before final ReLU and linear transform)\\n\\nPlase use nn.Sequential to group sequentially following transforms (for example, 6 transforms in the upper figure and 9 transforms in the lower figure )\\n\\n'"
      ]
     },
     "execution_count": 170,
     "metadata": {},
     "output_type": "execute_result"
    }
   ],
   "source": [
    "\"\"\"\n",
    "Please implement (at the latest stage) here the following neural network\n",
    "\n",
    "                  => Linear[features:33->hid_size1] => ReLU => \n",
    "                  => Linear[features:hid_size1->hid_size2] => ReLU =>\n",
    "                  => Linear[features:hid_size2->1] => ReLU\n",
    "                /                                                            \\\n",
    "Features (33,39)                                                              => ReLU => Linear[features:10->1]\n",
    "                \\                                                            /\n",
    "                  => Convolution[channels:1->5,kernel=5,stride=2] => ReLU =>\n",
    "                  => Convolution[channels:5->5,kernel=5,stride=2] => ReLU =>\n",
    "                  => Convolution[channels:5->5,kernel=4,stride=1] => ReLU =>\n",
    "                  => Flatten on {1,2} => Linear[25->9] => ReLU\n",
    "\n",
    "Please use the following interfaces\n",
    "\n",
    "nn.Linear - for linear transform\n",
    "nn.Conv1d - for convolution\n",
    "nn.Flatten - for flattening\n",
    "nn.ReLU - for ReLU\n",
    "torch.concat - to concatenate tensors (before final ReLU and linear transform)\n",
    "\n",
    "Plase use nn.Sequential to group sequentially following transforms (for example, 6 transforms in the upper figure and 9 transforms in the lower figure )\n",
    "\n",
    "\"\"\""
   ]
  },
  {
   "cell_type": "code",
   "execution_count": 384,
   "id": "2d491358-257d-469f-a3cc-3a5d8be0b6e0",
   "metadata": {
    "tags": []
   },
   "outputs": [],
   "source": [
    "\"\"\"\n",
    "Convolution[channels:1->3,kernel=5,stride=1] => ReLU =>\n",
    "=> Convolution[channels:2->3,kernel=4,stride=1] => ReLU =>\n",
    "=> Convolution[channels:3->4,kernel=3,stride=1] => ReLU =>\n",
    "AvgPool\n",
    "\"\"\"\n",
    "\n",
    "# assumed input_size = 39\n",
    "class MMFCNNTrain(nn.Module):\n",
    "    def __init__(self):\n",
    "        super().__init__()\n",
    "        \n",
    "        self.network = nn.Sequential(\n",
    "            nn.Conv1d(in_channels=1,out_channels=2,kernel_size=12,stride=1),\n",
    "            nn.ReLU(),\n",
    "            nn.Conv1d(in_channels=2,out_channels=3,kernel_size=11,stride=2),\n",
    "            nn.ReLU(),\n",
    "            nn.Conv1d(in_channels=3,out_channels=4,kernel_size=9,stride=1),\n",
    "            nn.ReLU(),\n",
    "            nn.Flatten(start_dim=1,end_dim=2),\n",
    "            nn.Linear(in_features=4,out_features=1),\n",
    "            nn.ReLU()\n",
    "        )\n",
    "        self.network2 = nn.Sequential(\n",
    "            nn.Conv1d(in_channels=1,out_channels=2,kernel_size=10,stride=1),\n",
    "            nn.ReLU(),\n",
    "            nn.Conv1d(in_channels=2,out_channels=3,kernel_size=6,stride=1),\n",
    "            nn.ReLU(),\n",
    "            nn.Conv1d(in_channels=3,out_channels=4,kernel_size=2,stride=1),\n",
    "            nn.ReLU(),\n",
    "            nn.Flatten(start_dim=1,end_dim=2),\n",
    "            nn.Linear(in_features=12,out_features=1),\n",
    "            nn.ReLU()\n",
    "        )\n",
    "        self.output = nn.Sequential(\n",
    "            nn.ReLU()\n",
    "        )\n",
    "        \n",
    "    def forward(self,x):\n",
    "        out1 = self.network.forward(x['p'])\n",
    "        out2 = self.network2.forward(x['v'])\n",
    "        out = self.output(out1 + out2)\n",
    "        \n",
    "        return out"
   ]
  },
  {
   "cell_type": "code",
   "execution_count": 385,
   "id": "8132d3fb-3393-4080-8558-f106a845f6f2",
   "metadata": {
    "tags": []
   },
   "outputs": [
    {
     "data": {
      "text/plain": [
       "(torch.Size([293332, 1, 39]), torch.Size([293332, 1, 18]))"
      ]
     },
     "execution_count": 385,
     "metadata": {},
     "output_type": "execute_result"
    }
   ],
   "source": [
    "features_dict['p'].shape, features_dict['v'].shape"
   ]
  },
  {
   "cell_type": "code",
   "execution_count": 386,
   "id": "c9b57acc-0dd4-4293-9b70-413ac5af1617",
   "metadata": {
    "tags": []
   },
   "outputs": [
    {
     "data": {
      "text/plain": [
       "torch.Size([293332, 1])"
      ]
     },
     "execution_count": 386,
     "metadata": {},
     "output_type": "execute_result"
    }
   ],
   "source": [
    "mmf_cnn_train = MMFCNNTrain()\n",
    "mmf_cnn_train(features_dict).shape"
   ]
  },
  {
   "cell_type": "markdown",
   "id": "5238c11e-bac9-4d7c-b987-e2b7f52f332a",
   "metadata": {
    "tags": []
   },
   "source": [
    "#### TRAIN\\VAL\\TEST | TRANSFORM"
   ]
  },
  {
   "cell_type": "code",
   "execution_count": 219,
   "id": "9737e36c-8b6d-47b3-9101-3a427659d3df",
   "metadata": {
    "tags": []
   },
   "outputs": [],
   "source": [
    "data_index = pgrid.index[int(pgrid.index.shape[0] * 0.8)]\n",
    "\n",
    "X_train, X_test = pgrid[:data_index], pgrid[data_index:]\n",
    "X_train_v, X_test_v = vgrid[:data_index], vgrid[data_index:]\n",
    "\n",
    "y_train, y_test = returns_ahead[:data_index], returns_ahead[data_index:]\n",
    "\n",
    "X_train, X_val, y_train, y_val = train_test_split(X_train, y_train, test_size=0.2, random_state=random_state)\n",
    "X_train_v, X_val_v, _, _ = train_test_split(X_train_v, X_train_v, test_size=0.2, random_state=random_state)\n",
    "\n",
    "y_train, y_val, y_test = np.array(y_train).reshape(-1,1), np.array(y_val).reshape(-1,1), np.array(y_test).reshape(-1,1)"
   ]
  },
  {
   "cell_type": "code",
   "execution_count": 221,
   "id": "2d6450dd-5f4f-4e92-b5fd-f13e1cd76a80",
   "metadata": {
    "tags": []
   },
   "outputs": [],
   "source": [
    "Qt_x = QuantileTransformer(output_distribution='normal')\n",
    "Qt_x.fit(X_train)\n",
    "\n",
    "Qt_xv = QuantileTransformer(output_distribution='normal')\n",
    "Qt_xv.fit(X_train_v)\n",
    "\n",
    "Qt_y = QuantileTransformer(output_distribution='normal')\n",
    "Qt_y.fit(y_train)\n",
    "\n",
    "X_train, X_val, X_test = Qt_x.transform(X_train), Qt_x.transform(X_val), Qt_x.transform(X_test)\n",
    "X_train_v, X_val_v, X_test_v = Qt_xv.transform(X_train_v), Qt_xv.transform(X_val_v), Qt_xv.transform(X_test_v)\n",
    "\n",
    "y_train, y_val, y_test = Qt_y.transform(y_train), Qt_y.transform(y_val), Qt_y.transform(y_test)"
   ]
  },
  {
   "cell_type": "code",
   "execution_count": 222,
   "id": "eb66eab6-a9ae-455d-9e7d-5946bcb52ecf",
   "metadata": {
    "tags": []
   },
   "outputs": [
    {
     "data": {
      "image/png": "[encoded data removed]",
      "text/plain": [
       "<Figure size 640x480 with 1 Axes>"
      ]
     },
     "metadata": {},
     "output_type": "display_data"
    }
   ],
   "source": [
    "_ = plt.hist(\n",
    "        X_train_v,\n",
    "        histtype='step',\n",
    "        bins=100,\n",
    "        log=True\n",
    "    )"
   ]
  },
  {
   "cell_type": "code",
   "execution_count": 223,
   "id": "40ae8a8b-b952-4024-be3d-04dcc959b5c6",
   "metadata": {
    "tags": []
   },
   "outputs": [],
   "source": [
    "X_train_t = torch.tensor(X_train, dtype=torch.float32, device=DEVICE)\n",
    "X_val_t = torch.tensor(X_val, dtype=torch.float32, device=DEVICE)\n",
    "X_test_t = torch.tensor(X_test, dtype=torch.float32, device=DEVICE)\n",
    "\n",
    "X_train_tv = torch.tensor(X_train_v, dtype=torch.float32, device=DEVICE)\n",
    "X_val_tv = torch.tensor(X_val_v, dtype=torch.float32, device=DEVICE)\n",
    "X_test_tv = torch.tensor(X_test_v, dtype=torch.float32, device=DEVICE)\n",
    "\n",
    "y_train_t = torch.tensor(y_train, dtype=torch.float32, device=DEVICE)\n",
    "y_val_t = torch.tensor(y_val, dtype=torch.float32, device=DEVICE)\n",
    "y_test_t = torch.tensor(y_test, dtype=torch.float32, device=DEVICE)"
   ]
  },
  {
   "cell_type": "markdown",
   "id": "adf0dcd9-dfbe-4b73-82d9-66c8ee1e7ca4",
   "metadata": {
    "tags": []
   },
   "source": [
    "#### FIT mmf_cnn_train, "
   ]
  },
  {
   "cell_type": "code",
   "execution_count": 224,
   "id": "c454c72b-58d7-43c9-82e9-979524644009",
   "metadata": {
    "tags": []
   },
   "outputs": [],
   "source": [
    "# MMF - market microstructure features\n",
    "MMFEpisode = namedtuple('MMFEpisode',['features','targets'])"
   ]
  },
  {
   "cell_type": "code",
   "execution_count": 367,
   "id": "1f0c2ebd-4569-40be-b36d-55a75d273377",
   "metadata": {
    "tags": []
   },
   "outputs": [],
   "source": [
    "features_dict = {'p': X_train_t, 'v': X_train_tv}\n",
    "features_dict_val = {'p': X_val_t, 'v': X_val_tv}"
   ]
  },
  {
   "cell_type": "code",
   "execution_count": 240,
   "id": "e349099f-3e65-4758-9976-806e07e5b700",
   "metadata": {
    "tags": []
   },
   "outputs": [],
   "source": [
    "class MMFSet(torch.utils.data.Dataset):\n",
    "    def __init__(self, X, y, episode_len):\n",
    "        super().__init__()\n",
    "        \n",
    "        assert X['p'].shape[0] == y.shape[0]\n",
    "        \n",
    "        self.n_ticks, self.n_features = X['p'].shape\n",
    "        self.episode_len = episode_len\n",
    "        self.features_t = X['p'][:,None,:]\n",
    "        self.features_tv = X['v'][:,None,:]\n",
    "        self.targets_t = y\n",
    "    \n",
    "    def __len__(self):\n",
    "        return self.n_ticks-self.episode_len+1\n",
    "    \n",
    "    def __getitem__(self,i):\n",
    "        return MMFEpisode(\n",
    "            features = {'p': self.features_t[i], 'v': self.features_tv[i]},\n",
    "            targets = self.targets_t[i]\n",
    "        )"
   ]
  },
  {
   "cell_type": "code",
   "execution_count": 241,
   "id": "bc954df2-b362-4511-9fd0-f167dbaf6f7a",
   "metadata": {
    "tags": []
   },
   "outputs": [],
   "source": [
    "BATCH_SIZE = 128\n",
    "LEARNING_RATE = 0.01\n",
    "EPISODE_LEN = 128"
   ]
  },
  {
   "cell_type": "code",
   "execution_count": 242,
   "id": "f2c04577-42aa-4549-88c3-29404665e12f",
   "metadata": {
    "tags": []
   },
   "outputs": [
    {
     "data": {
      "text/plain": [
       "(458332, 39)"
      ]
     },
     "execution_count": 242,
     "metadata": {},
     "output_type": "execute_result"
    }
   ],
   "source": [
    "pgrid.values.shape"
   ]
  },
  {
   "cell_type": "code",
   "execution_count": 243,
   "id": "6ac26d3b-8f42-4299-9377-531b2a88e2e0",
   "metadata": {
    "tags": []
   },
   "outputs": [],
   "source": [
    "mmf_train_set = MMFSet(features_dict, y_train_t, EPISODE_LEN)"
   ]
  },
  {
   "cell_type": "code",
   "execution_count": 186,
   "id": "cbde3a89-2f15-4e04-a0ce-e2cb36b4a8ff",
   "metadata": {
    "tags": []
   },
   "outputs": [
    {
     "name": "stdout",
     "output_type": "stream",
     "text": [
      "torch.Size([293332, 39])\n"
     ]
    }
   ],
   "source": [
    "mmf_train_set = MMFSet(X_train_t, y_train_t, EPISODE_LEN)"
   ]
  },
  {
   "cell_type": "code",
   "execution_count": 250,
   "id": "f8fbf62f-746c-413d-beca-4dc6f1d8cafa",
   "metadata": {
    "tags": []
   },
   "outputs": [],
   "source": [
    "mmf_cnn = MMFCNNTrain()\n",
    "\n",
    "mmf_loss_fn = F.mse_loss\n",
    "mmf_optimizer = torch.optim.Adam(mmf_cnn.parameters(),lr=LEARNING_RATE)"
   ]
  },
  {
   "cell_type": "code",
   "execution_count": 251,
   "id": "5681e0a3-c5cc-4fc3-966e-549b0e191ace",
   "metadata": {
    "tags": []
   },
   "outputs": [],
   "source": [
    "mmf_train_batch_set = torch.utils.data.DataLoader(\n",
    "        mmf_train_set,\n",
    "        batch_size = BATCH_SIZE,\n",
    "        shuffle = False,\n",
    "    )"
   ]
  },
  {
   "cell_type": "code",
   "execution_count": 252,
   "id": "26f8c3de-e0af-4967-9533-0847b271687a",
   "metadata": {
    "tags": []
   },
   "outputs": [
    {
     "data": {
      "text/plain": [
       "MMFEpisode(features=tensor([[[-0.5818, -0.4174, -0.3160,  ...,  0.3558, -0.1332,  0.1954]],\n",
       "\n",
       "        [[-0.5667, -2.1420, -0.3484,  ..., -0.2739,  0.1983, -1.2688]],\n",
       "\n",
       "        [[-0.8600, -1.8274, -0.4937,  ...,  0.2091,  0.6035,  1.4355]],\n",
       "\n",
       "        ...,\n",
       "\n",
       "        [[-2.5370, -0.4401, -1.8952,  ...,  1.3275,  1.4094,  1.3264]],\n",
       "\n",
       "        [[-0.3760,  0.0405, -0.5230,  ..., -0.0883,  0.2762,  0.5072]],\n",
       "\n",
       "        [[-0.3360, -0.5811, -0.8307,  ...,  0.8542,  0.3799, -1.4015]]]), targets=tensor([[-0.6013],\n",
       "        [-0.5951],\n",
       "        [ 0.6451],\n",
       "        ...,\n",
       "        [ 0.5347],\n",
       "        [ 1.7766],\n",
       "        [-0.5329]]))"
      ]
     },
     "execution_count": 252,
     "metadata": {},
     "output_type": "execute_result"
    }
   ],
   "source": [
    "mmf_episode"
   ]
  },
  {
   "cell_type": "code",
   "execution_count": 369,
   "id": "0db3ffde-c608-4c9c-9652-1757af28dfd9",
   "metadata": {
    "tags": []
   },
   "outputs": [],
   "source": [
    "features_dict = {'p': X_train_t[:,None,:], 'v': X_train_tv[:,None,:]}\n",
    "features_dict_val = {'p': X_val_t[:,None,:], 'v': X_val_tv[:,None,:]}"
   ]
  },
  {
   "cell_type": "code",
   "execution_count": null,
   "id": "ecbb7a29-ef78-40a5-8ad3-ad2a4661eaff",
   "metadata": {
    "tags": []
   },
   "outputs": [
    {
     "data": {
      "image/png": "[encoded data removed]",
      "text/plain": [
       "<Figure size 1600x500 with 2 Axes>"
      ]
     },
     "metadata": {},
     "output_type": "display_data"
    }
   ],
   "source": [
    "train_loss_hist = []\n",
    "val_loss_hist = []\n",
    "\n",
    "iter_num = 0\n",
    "EPOCHS = 100\n",
    "BATCH_SIZE = 8192\n",
    "LEARNING_RATE = 1e-3\n",
    "\n",
    "mmf_cnn = MMFCNNTrain()\n",
    "mmf_loss_fn = F.mse_loss\n",
    "mmf_optimizer = torch.optim.Adam(mmf_cnn.parameters(),lr=LEARNING_RATE)\n",
    "\n",
    "mmf_train_batch_set = torch.utils.data.DataLoader(\n",
    "        mmf_train_set,\n",
    "        batch_size = BATCH_SIZE,\n",
    "        shuffle = False,\n",
    "    )\n",
    "\n",
    "#assert torch.sum(mmf_cnn(xx)) > 0\n",
    "\n",
    "for epoch in range(EPOCHS):\n",
    "    mmf_train_batch_set = torch.utils.data.DataLoader(\n",
    "        mmf_train_set,\n",
    "        batch_size = BATCH_SIZE,\n",
    "        shuffle = False,\n",
    "    )\n",
    "    #mmf_optimizer = torch.optim.Adam(mmf_cnn.parameters(),lr=LEARNING_RATE*np.exp(-epoch/EPOCHS))\n",
    "    for mmf_episode in mmf_train_batch_set:\n",
    "        iter_num += 1\n",
    "\n",
    "        predicted_targets = mmf_cnn(mmf_episode.features)\n",
    "\n",
    "        train_loss = mmf_loss_fn(predicted_targets, mmf_episode.targets)\n",
    "\n",
    "        mmf_cnn.zero_grad()\n",
    "        train_loss.backward()\n",
    "        mmf_optimizer.step()\n",
    "        \n",
    "        if not iter_num % 20:\n",
    "            mmf_cnn.train(False)\n",
    "            \n",
    "            train_loss = mmf_loss_fn(mmf_cnn(features_dict), y_train_t)\n",
    "            train_loss_hist.append(train_loss.item())\n",
    "            \n",
    "            val_loss = mmf_loss_fn(mmf_cnn(features_dict_val), y_val_t)\n",
    "            val_loss_hist.append(val_loss.item())\n",
    "            \n",
    "            mmf_cnn.train(True)\n",
    "            \n",
    "            clear_output(True)\n",
    "\n",
    "            tlh = pd.Series(train_loss_hist)\n",
    "            vlh = pd.Series(val_loss_hist)\n",
    "\n",
    "            fig,axs = plt.subplots(1,2,figsize=(16,5))\n",
    "            axs[0].plot(tlh.index,tlh.values,label='train loss',color='blue')\n",
    "            axs[1].plot(vlh.index,vlh.values,label='val loss',color='red')\n",
    "\n",
    "            plt.show()"
   ]
  },
  {
   "cell_type": "code",
   "execution_count": null,
   "id": "acefb843-532a-4b8c-b1a0-d05012314076",
   "metadata": {},
   "outputs": [],
   "source": []
  }
 ],
 "metadata": {
  "kernelspec": {
   "display_name": "Python 3 (ipykernel)",
   "language": "python",
   "name": "python3"
  },
  "language_info": {
   "codemirror_mode": {
    "name": "ipython",
    "version": 3
   },
   "file_extension": ".py",
   "mimetype": "text/x-python",
   "name": "python",
   "nbconvert_exporter": "python",
   "pygments_lexer": "ipython3",
   "version": "3.10.11"
  }
 },
 "nbformat": 4,
 "nbformat_minor": 5
}
