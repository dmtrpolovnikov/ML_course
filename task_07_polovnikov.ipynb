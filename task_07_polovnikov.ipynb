{
 "cells": [
  {
   "cell_type": "code",
   "execution_count": 1,
   "id": "b0b3a128-7330-4658-988e-02b577ead430",
   "metadata": {
    "tags": []
   },
   "outputs": [],
   "source": [
    "import os\n",
    "import sys\n",
    "import numpy as np\n",
    "import pandas as pd\n",
    "\n",
    "import torch\n",
    "import torch.nn as nn\n",
    "import torch.nn.functional as F\n",
    "\n",
    "from tqdm.auto import tqdm\n",
    "\n",
    "import matplotlib.pyplot as plt\n",
    "%matplotlib inline"
   ]
  },
  {
   "cell_type": "code",
   "execution_count": 2,
   "id": "80c8dbcd-4001-4475-b42f-f53c5c2e7343",
   "metadata": {
    "tags": []
   },
   "outputs": [],
   "source": [
    "full_name = 'Dmitry Polovnikov'\n",
    "random_state = sum(map(ord,full_name))"
   ]
  },
  {
   "cell_type": "code",
   "execution_count": 39,
   "id": "3007db37-e2c5-47de-9d1d-04221fafd2fb",
   "metadata": {
    "tags": []
   },
   "outputs": [],
   "source": [
    "MLDATA_PATH = 'moex_top.csv'\n",
    "mldata = pd.read_csv(MLDATA_PATH,index_col=0)\n",
    "mldata = mldata.ffill()\n",
    "mldata = mldata.pct_change().shift(-1)\n",
    "mldata = mldata.dropna()\n",
    "mldata.index = pd.to_datetime(mldata.index)"
   ]
  },
  {
   "cell_type": "code",
   "execution_count": 10,
   "id": "7b98dc55-dfb1-47ce-8574-6f8c2e5c7a32",
   "metadata": {
    "tags": []
   },
   "outputs": [],
   "source": [
    "DEVICE = 'cpu'"
   ]
  },
  {
   "cell_type": "code",
   "execution_count": 11,
   "id": "868bcb22-c717-47b9-981b-0f177233cee5",
   "metadata": {
    "tags": []
   },
   "outputs": [
    {
     "data": {
      "text/plain": [
       "torch.Size([2519, 78])"
      ]
     },
     "execution_count": 11,
     "metadata": {},
     "output_type": "execute_result"
    }
   ],
   "source": [
    "universe_size = mldata.shape[1]\n",
    "m_tensor = torch.tensor(mldata.values,dtype=torch.float32).to(DEVICE)\n",
    "m_tensor.shape"
   ]
  },
  {
   "cell_type": "code",
   "execution_count": 12,
   "id": "31a1af7e-57da-4818-8580-362361939c46",
   "metadata": {
    "tags": []
   },
   "outputs": [],
   "source": [
    "class AutoEncoder(nn.Module):\n",
    "    def __init__(self,\n",
    "                 n_features, \n",
    "                 hidden_sizes, \n",
    "                 activation_func):\n",
    "        \"\"\"\n",
    "            hidden_sizes = [...]\n",
    "        \"\"\"\n",
    "        super().__init__()\n",
    "        \n",
    "        encoder_layers = [\n",
    "            nn.Linear(n_features,hidden_sizes[0]),\n",
    "            activation_func()\n",
    "        ]\n",
    "        \n",
    "        for i in range(1,len(hidden_sizes)):\n",
    "            encoder_layers += [\n",
    "                nn.Linear(hidden_sizes[i-1],hidden_sizes[i]), activation_func()\n",
    "            ]\n",
    "            \n",
    "        self.encoder = nn.Sequential(*encoder_layers)\n",
    "        \n",
    "        decoder_layers = []\n",
    "        for i in range(len(hidden_sizes)-1,0,-1):\n",
    "            decoder_layers += [\n",
    "                nn.Linear(hidden_sizes[i], hidden_sizes[i-1]), activation_func()\n",
    "            ]\n",
    "            \n",
    "        decoder_layers += [nn.Linear(hidden_sizes[0],n_features),activation_func()]\n",
    "        self.decoder = nn.Sequential(*decoder_layers)\n",
    "        \n",
    "    def forward(self,x):\n",
    "        x_encoded = self.encoder(x)\n",
    "        x_decoded = self.decoder(x_encoded)\n",
    "        \n",
    "        return x_decoded"
   ]
  },
  {
   "cell_type": "code",
   "execution_count": 13,
   "id": "a81bae33-12b3-4975-878d-0409fd239189",
   "metadata": {
    "tags": []
   },
   "outputs": [],
   "source": [
    "model = AutoEncoder(universe_size, [32,8], nn.Tanh).to(DEVICE)\n",
    "loss_func = nn.MSELoss()\n",
    "optimizer = torch.optim.Adam(model.parameters(), lr=0.001)"
   ]
  },
  {
   "cell_type": "code",
   "execution_count": 14,
   "id": "405dbada-f188-456b-aa70-f8dae79ee78a",
   "metadata": {
    "tags": []
   },
   "outputs": [],
   "source": [
    "losses = []"
   ]
  },
  {
   "cell_type": "code",
   "execution_count": 15,
   "id": "c7759a8f-65df-42ee-881f-fbdb2c63fdf0",
   "metadata": {
    "tags": []
   },
   "outputs": [],
   "source": [
    "def fit_nn(N_epochs, m_tensor):\n",
    "    for _ in range(N_epochs):\n",
    "        predicted = model(m_tensor)\n",
    "        loss = loss_func(predicted, m_tensor)\n",
    "        losses.append(loss.item())\n",
    "        optimizer.zero_grad()\n",
    "        loss.backward()\n",
    "        optimizer.step()"
   ]
  },
  {
   "cell_type": "markdown",
   "id": "7e72ba17-7c41-429a-ba7e-985da25ff705",
   "metadata": {},
   "source": [
    "#### online fit and predict and PnL"
   ]
  },
  {
   "cell_type": "code",
   "execution_count": 24,
   "id": "a7450501-189c-4805-96fc-03e185be4152",
   "metadata": {
    "tags": []
   },
   "outputs": [
    {
     "name": "stdout",
     "output_type": "stream",
     "text": [
      "dates : (Timestamp('2012-03-29 00:00:00'), Timestamp('2012-05-24 00:00:00'))\n",
      "dates : (Timestamp('2012-08-17 00:00:00'), Timestamp('2012-10-12 00:00:00'))\n",
      "dates : (Timestamp('2013-01-15 00:00:00'), Timestamp('2013-03-13 00:00:00'))\n",
      "dates : (Timestamp('2013-06-07 00:00:00'), Timestamp('2013-08-05 00:00:00'))\n",
      "dates : (Timestamp('2013-10-28 00:00:00'), Timestamp('2013-12-24 00:00:00'))\n",
      "dates : (Timestamp('2014-03-26 00:00:00'), Timestamp('2014-05-23 00:00:00'))\n",
      "dates : (Timestamp('2014-08-19 00:00:00'), Timestamp('2014-10-14 00:00:00'))\n",
      "dates : (Timestamp('2015-01-13 00:00:00'), Timestamp('2015-03-12 00:00:00'))\n",
      "dates : (Timestamp('2015-06-09 00:00:00'), Timestamp('2015-08-05 00:00:00'))\n",
      "dates : (Timestamp('2015-10-28 00:00:00'), Timestamp('2015-12-24 00:00:00'))\n",
      "dates : (Timestamp('2016-03-24 00:00:00'), Timestamp('2016-05-24 00:00:00'))\n",
      "dates : (Timestamp('2016-08-17 00:00:00'), Timestamp('2016-10-12 00:00:00'))\n",
      "dates : (Timestamp('2017-01-06 00:00:00'), Timestamp('2017-03-06 00:00:00'))\n",
      "dates : (Timestamp('2017-06-02 00:00:00'), Timestamp('2017-07-31 00:00:00'))\n",
      "dates : (Timestamp('2017-10-23 00:00:00'), Timestamp('2017-12-19 00:00:00'))\n",
      "dates : (Timestamp('2018-03-20 00:00:00'), Timestamp('2018-05-16 00:00:00'))\n",
      "dates : (Timestamp('2018-08-08 00:00:00'), Timestamp('2018-10-03 00:00:00'))\n",
      "dates : (Timestamp('2018-12-27 00:00:00'), Timestamp('2019-02-26 00:00:00'))\n",
      "dates : (Timestamp('2019-05-24 00:00:00'), Timestamp('2019-07-22 00:00:00'))\n",
      "dates : (Timestamp('2019-10-14 00:00:00'), Timestamp('2019-12-10 00:00:00'))\n",
      "dates : (Timestamp('2020-03-11 00:00:00'), Timestamp('2020-05-07 00:00:00'))\n",
      "dates : (Timestamp('2020-08-05 00:00:00'), Timestamp('2020-09-30 00:00:00'))\n",
      "dates : (Timestamp('2020-12-24 00:00:00'), Timestamp('2021-02-22 00:00:00'))\n",
      "dates : (Timestamp('2021-05-20 00:00:00'), Timestamp('2021-07-15 00:00:00'))\n",
      "dates : (Timestamp('2021-10-07 00:00:00'), Timestamp('2021-12-03 00:00:00'))\n",
      "CPU times: user 21.8 s, sys: 6.52 ms, total: 21.8 s\n",
      "Wall time: 21.8 s\n"
     ]
    }
   ],
   "source": [
    "%%time\n",
    "window = 40\n",
    "\n",
    "model = AutoEncoder(universe_size, [32,8], nn.Tanh).to(DEVICE)\n",
    "loss_func = nn.MSELoss()\n",
    "optimizer = torch.optim.Adam(model.parameters(), lr=1e-2)\n",
    "pnl=np.zeros(mldata.shape[0]-window)\n",
    "\n",
    "for report_day in range(window, mldata.shape[0]-3):\n",
    "    m_tensor = torch.tensor((mldata.iloc[report_day-window:report_day]).values, dtype=torch.float32).to(DEVICE)\n",
    "    if report_day % 100 == 0:\n",
    "        print(f'dates : {mldata.index[report_day-window], mldata.index[report_day]}')\n",
    "    \n",
    "    fit_nn(10, m_tensor)\n",
    "    next_day = torch.tensor((mldata.iloc[report_day+1]).values,dtype=torch.float32).to(DEVICE)\n",
    "    X = model(next_day).detach().numpy()\n",
    "    \n",
    "    fair_return = X\n",
    "    realized_return = np.array(mldata.iloc[report_day+1])\n",
    "    \n",
    "    alpha = (fair_return - realized_return) #.shift().fillna(0)\n",
    "    pnl[report_day-window] = (mldata.iloc[report_day+2] * alpha).sum()"
   ]
  },
  {
   "cell_type": "code",
   "execution_count": 25,
   "id": "8fa2545a-07d6-486b-847b-96c0fc5b4551",
   "metadata": {
    "tags": []
   },
   "outputs": [
    {
     "data": {
      "text/plain": [
       "[<matplotlib.lines.Line2D at 0x7fc3ce8540a0>]"
      ]
     },
     "execution_count": 25,
     "metadata": {},
     "output_type": "execute_result"
    },
    {
     "data": {
      "image/png": "[encoded data removed]",
      "text/plain": [
       "<Figure size 640x480 with 1 Axes>"
      ]
     },
     "metadata": {},
     "output_type": "display_data"
    }
   ],
   "source": [
    "a = np.where(abs(pnl)>0.1, 0, pnl)\n",
    "plt.plot(a.cumsum())"
   ]
  },
  {
   "cell_type": "markdown",
   "id": "48e26564-cb5a-4836-ba6f-ec677c3fe30d",
   "metadata": {
    "jp-MarkdownHeadingCollapsed": true,
    "tags": []
   },
   "source": [
    "#### JAX REALIZATION (in progress - it still doesn't work)"
   ]
  },
  {
   "cell_type": "code",
   "execution_count": 16,
   "id": "d41af6e3-cbfd-4185-ab17-7d259425214a",
   "metadata": {
    "tags": []
   },
   "outputs": [
    {
     "name": "stderr",
     "output_type": "stream",
     "text": [
      "WARNING: All log messages before absl::InitializeLog() is called are written to STDERR\n",
      "I0000 00:00:1696073095.907221 1060831 tfrt_cpu_pjrt_client.cc:349] TfrtCpuClient created.\n",
      "2023-09-30 11:24:56.049794: W external/xla/xla/service/platform_util.cc:198] unable to create StreamExecutor for CUDA:0: failed initializing StreamExecutor for CUDA device ordinal 0: INTERNAL: failed call to cuDevicePrimaryCtxRetain: CUDA_ERROR_OUT_OF_MEMORY: out of memory; total memory reported: 34089926656\n",
      "No GPU/TPU found, falling back to CPU. (Set TF_CPP_MIN_LOG_LEVEL=0 and rerun for more info.)\n",
      "2023-09-30 11:24:56.734134: E tensorflow/stream_executor/cuda/cuda_blas.cc:2981] Unable to register cuBLAS factory: Attempting to register factory for plugin cuBLAS when one has already been registered\n",
      "2023-09-30 11:24:57.294352: W tensorflow/stream_executor/platform/default/dso_loader.cc:64] Could not load dynamic library 'libnvinfer.so.7'; dlerror: libnvinfer.so.7: cannot open shared object file: No such file or directory\n",
      "2023-09-30 11:24:57.294413: W tensorflow/stream_executor/platform/default/dso_loader.cc:64] Could not load dynamic library 'libnvinfer_plugin.so.7'; dlerror: libnvinfer_plugin.so.7: cannot open shared object file: No such file or directory\n",
      "2023-09-30 11:24:57.294419: W tensorflow/compiler/tf2tensorrt/utils/py_utils.cc:38] TF-TRT Warning: Cannot dlopen some TensorRT libraries. If you would like to use Nvidia GPU with TensorRT, please make sure the missing libraries mentioned above are installed properly.\n"
     ]
    }
   ],
   "source": [
    "# %env CUDA_VISIBLE_DEVICES=-1\n",
    "# if torch.cuda.is_available():\n",
    "#     torch.set_default_tensor_type('torch.cuda.FloatTensor')\n",
    "\n",
    "from tqdm.auto import tqdm\n",
    "\n",
    "import jax\n",
    "import jax.numpy as jnp\n",
    "from jax import random\n",
    "random_state_key = random.PRNGKey(random_state)\n",
    "\n",
    "# flax = NN in JAX\n",
    "import flax\n",
    "from flax import linen as fnn\n",
    "from flax.training import train_state, checkpoints\n",
    "\n",
    "# optax is JAX optimizer\n",
    "import optax\n",
    "\n",
    "from torch.utils.tensorboard import SummaryWriter\n",
    "%load_ext tensorboard"
   ]
  },
  {
   "cell_type": "code",
   "execution_count": 17,
   "id": "47d02220-1f45-4c8a-9f8c-83a8bb67d0af",
   "metadata": {
    "tags": []
   },
   "outputs": [],
   "source": [
    "class jAutoEncoder(fnn.Module):\n",
    "    n_features : int\n",
    "    hidden_sizes : int\n",
    "    \n",
    "    def setup(self):\n",
    "        \"\"\"\n",
    "            hidden_sizes = [...]\n",
    "        \"\"\"\n",
    "        super().__init__()\n",
    "        \n",
    "        encoder_layers = [\n",
    "            fnn.Dense(features=self.hidden_sizes[0])\n",
    "        ]\n",
    "        \n",
    "        for i in range(1, len(self.hidden_sizes)):\n",
    "            encoder_layers += [\n",
    "                fnn.Dense(features=self.hidden_sizes[i])\n",
    "            ]\n",
    "            \n",
    "        self.encoder = fnn.Sequential(encoder_layers)\n",
    "        \n",
    "        decoder_layers = []\n",
    "        for i in range(len(self.hidden_sizes)-1,0,-1):\n",
    "            decoder_layers += [\n",
    "                fnn.Dense(features=self.hidden_sizes[i])\n",
    "            ]\n",
    "            \n",
    "        decoder_layers += [fnn.Dense(features=self.n_features)]\n",
    "        self.decoder = fnn.Sequential(decoder_layers)\n",
    "        \n",
    "    def __call__(self,x):\n",
    "        x_encoded = self.encoder(x)\n",
    "        x_decoded = self.decoder(x_encoded)\n",
    "        \n",
    "        return x_decoded"
   ]
  },
  {
   "cell_type": "code",
   "execution_count": 18,
   "id": "78bf55a0-a1e6-4595-913b-2a64e2e3cf36",
   "metadata": {
    "tags": []
   },
   "outputs": [],
   "source": [
    "# Same as JAX version but using model.apply().\n",
    "@jax.jit\n",
    "def mse(params, x_batched, y_batched):\n",
    "  # Define the squared loss for a single pair (x,y)\n",
    "  def squared_error(x, y):\n",
    "    pred = jmodel.apply(params, x)\n",
    "    return jnp.inner(y_batched-pred, y_batched-pred) / 2.0\n",
    "  # Vectorize the previous to compute the average of the loss on all samples.\n",
    "    #print('here')\n",
    "    return jnp.mean(jax.vmap(squared_error)(x_batched,y_batched), axis=0)"
   ]
  },
  {
   "cell_type": "code",
   "execution_count": 19,
   "id": "0026cafa-5bdf-47bf-bf50-54ae9a197875",
   "metadata": {
    "tags": []
   },
   "outputs": [],
   "source": [
    "# Same as JAX version but using model.apply().\n",
    "@jax.jit\n",
    "def mse(params, x_batched, y_batched):\n",
    "  # Define the squared loss for a single pair (x,y)\n",
    "    def squared_error(x, y):\n",
    "        return jnp.inner(x-y, x-y) / 2.0\n",
    "  # Vectorize the previous to compute the average of the loss on all samples.\n",
    "    return jnp.mean(jax.vmap(squared_error)(x_batched,y_batched), axis=0)"
   ]
  },
  {
   "cell_type": "code",
   "execution_count": 20,
   "id": "98a6c8fc-9507-4559-881b-a6e917849a80",
   "metadata": {
    "tags": []
   },
   "outputs": [],
   "source": [
    "loss_grad_fn = jax.value_and_grad(mse)\n",
    "\n",
    "@jax.jit\n",
    "def update_params(params, learning_rate, grads):\n",
    "    params = jax.tree_util.tree_map(\n",
    "    lambda p, g: p - learning_rate * g, params, grads)\n",
    "    return params"
   ]
  },
  {
   "cell_type": "code",
   "execution_count": 21,
   "id": "1f93a21e-b259-48b8-9c1f-06b992bd075a",
   "metadata": {
    "tags": []
   },
   "outputs": [
    {
     "data": {
      "text/plain": [
       "(124, 1134)"
      ]
     },
     "execution_count": 21,
     "metadata": {},
     "output_type": "execute_result"
    }
   ],
   "source": [
    "universe_size = R1M.shape[1]\n",
    "R1M_t = jnp.array(R1M.values)\n",
    "R1M_t.shape"
   ]
  },
  {
   "cell_type": "code",
   "execution_count": 22,
   "id": "d024e309-aa0a-4717-b360-f6cd53cbf643",
   "metadata": {
    "tags": []
   },
   "outputs": [],
   "source": [
    "jmodel = jAutoEncoder(universe_size, [32,8])\n",
    "params = jmodel.init(random_state_key, R1M_t)\n",
    "y = jmodel.apply(params, R1M_t)"
   ]
  },
  {
   "cell_type": "code",
   "execution_count": 23,
   "id": "f4b72b10-949d-47ab-8143-ca4a023183f5",
   "metadata": {
    "tags": []
   },
   "outputs": [],
   "source": [
    "optimizer = optax.adam(learning_rate=0.001)\n",
    "opt_state = optimizer.init(params)\n",
    "loss_grad_fn = jax.value_and_grad(mse)"
   ]
  },
  {
   "cell_type": "code",
   "execution_count": 24,
   "id": "c2e8a4ca-2a80-42cd-8047-3c2010eeceaa",
   "metadata": {
    "tags": []
   },
   "outputs": [],
   "source": [
    "def fit_nn():\n",
    "    global params, opt_state\n",
    "    for _ in tqdm(range(10000)):\n",
    "        predicted = jmodel.apply(params, R1M_t)\n",
    "        loss_val, grads = loss_grad_fn(params, predicted, R1M_t)\n",
    "        losses.append(loss_val)\n",
    "        updates, opt_state = optimizer.update(grads, opt_state)\n",
    "        params = optax.apply_updates(params, updates)\n",
    "        # if i % 10 == 0:\n",
    "        #     print('Loss step {}: '.format(i), loss_val)"
   ]
  },
  {
   "cell_type": "code",
   "execution_count": 25,
   "id": "f8356bd1-c5d6-4098-864a-72454ff54a47",
   "metadata": {
    "tags": []
   },
   "outputs": [],
   "source": [
    "predicted = jmodel.apply(params, R1M_t)\n",
    "\n",
    "loss_val, grads = loss_grad_fn(params, predicted, R1M_t)\n",
    "losses.append(loss_val)\n",
    "updates, opt_state = optimizer.update(grads, opt_state)\n",
    "params = optax.apply_updates(params, updates)"
   ]
  },
  {
   "cell_type": "code",
   "execution_count": 26,
   "id": "9e41a5ca-9a40-4c67-923e-880e86a65ecd",
   "metadata": {
    "tags": []
   },
   "outputs": [
    {
     "data": {
      "application/vnd.jupyter.widget-view+json": {
       "model_id": "d64b2b1bfc38457f8df83b4c00575f00",
       "version_major": 2,
       "version_minor": 0
      },
      "text/plain": [
       "  0%|          | 0/10000 [00:00<?, ?it/s]"
      ]
     },
     "metadata": {},
     "output_type": "display_data"
    },
    {
     "ename": "KeyboardInterrupt",
     "evalue": "",
     "output_type": "error",
     "traceback": [
      "\u001b[0;31m---------------------------------------------------------------------------\u001b[0m",
      "\u001b[0;31mKeyboardInterrupt\u001b[0m                         Traceback (most recent call last)",
      "File \u001b[0;32m<timed exec>:1\u001b[0m\n",
      "Cell \u001b[0;32mIn[24], line 8\u001b[0m, in \u001b[0;36mfit_nn\u001b[0;34m()\u001b[0m\n\u001b[1;32m      6\u001b[0m losses\u001b[38;5;241m.\u001b[39mappend(loss_val)\n\u001b[1;32m      7\u001b[0m updates, opt_state \u001b[38;5;241m=\u001b[39m optimizer\u001b[38;5;241m.\u001b[39mupdate(grads, opt_state)\n\u001b[0;32m----> 8\u001b[0m params \u001b[38;5;241m=\u001b[39m \u001b[43moptax\u001b[49m\u001b[38;5;241;43m.\u001b[39;49m\u001b[43mapply_updates\u001b[49m\u001b[43m(\u001b[49m\u001b[43mparams\u001b[49m\u001b[43m,\u001b[49m\u001b[43m \u001b[49m\u001b[43mupdates\u001b[49m\u001b[43m)\u001b[49m\n",
      "File \u001b[0;32m/opt/conda/lib/python3.10/site-packages/optax/_src/update.py:42\u001b[0m, in \u001b[0;36mapply_updates\u001b[0;34m(params, updates)\u001b[0m\n\u001b[1;32m     24\u001b[0m \u001b[38;5;28;01mdef\u001b[39;00m \u001b[38;5;21mapply_updates\u001b[39m(params: base\u001b[38;5;241m.\u001b[39mParams, updates: base\u001b[38;5;241m.\u001b[39mUpdates) \u001b[38;5;241m-\u001b[39m\u001b[38;5;241m>\u001b[39m base\u001b[38;5;241m.\u001b[39mParams:\n\u001b[1;32m     25\u001b[0m \u001b[38;5;250m  \u001b[39m\u001b[38;5;124;03m\"\"\"Applies an update to the corresponding parameters.\u001b[39;00m\n\u001b[1;32m     26\u001b[0m \n\u001b[1;32m     27\u001b[0m \u001b[38;5;124;03m  This is a utility functions that applies an update to a set of parameters, and\u001b[39;00m\n\u001b[0;32m   (...)\u001b[0m\n\u001b[1;32m     40\u001b[0m \u001b[38;5;124;03m    Updated parameters, with same structure, shape and type as `params`.\u001b[39;00m\n\u001b[1;32m     41\u001b[0m \u001b[38;5;124;03m  \"\"\"\u001b[39;00m\n\u001b[0;32m---> 42\u001b[0m   \u001b[38;5;28;01mreturn\u001b[39;00m \u001b[43mjax\u001b[49m\u001b[38;5;241;43m.\u001b[39;49m\u001b[43mtree_util\u001b[49m\u001b[38;5;241;43m.\u001b[39;49m\u001b[43mtree_map\u001b[49m\u001b[43m(\u001b[49m\n\u001b[1;32m     43\u001b[0m \u001b[43m      \u001b[49m\u001b[38;5;28;43;01mlambda\u001b[39;49;00m\u001b[43m \u001b[49m\u001b[43mp\u001b[49m\u001b[43m,\u001b[49m\u001b[43m \u001b[49m\u001b[43mu\u001b[49m\u001b[43m:\u001b[49m\u001b[43m \u001b[49m\u001b[43mjnp\u001b[49m\u001b[38;5;241;43m.\u001b[39;49m\u001b[43masarray\u001b[49m\u001b[43m(\u001b[49m\u001b[43mp\u001b[49m\u001b[43m \u001b[49m\u001b[38;5;241;43m+\u001b[39;49m\u001b[43m \u001b[49m\u001b[43mu\u001b[49m\u001b[43m)\u001b[49m\u001b[38;5;241;43m.\u001b[39;49m\u001b[43mastype\u001b[49m\u001b[43m(\u001b[49m\u001b[43mjnp\u001b[49m\u001b[38;5;241;43m.\u001b[39;49m\u001b[43masarray\u001b[49m\u001b[43m(\u001b[49m\u001b[43mp\u001b[49m\u001b[43m)\u001b[49m\u001b[38;5;241;43m.\u001b[39;49m\u001b[43mdtype\u001b[49m\u001b[43m)\u001b[49m\u001b[43m,\u001b[49m\n\u001b[1;32m     44\u001b[0m \u001b[43m      \u001b[49m\u001b[43mparams\u001b[49m\u001b[43m,\u001b[49m\u001b[43m \u001b[49m\u001b[43mupdates\u001b[49m\u001b[43m)\u001b[49m\n",
      "File \u001b[0;32m/opt/conda/lib/python3.10/site-packages/jax/_src/tree_util.py:244\u001b[0m, in \u001b[0;36mtree_map\u001b[0;34m(f, tree, is_leaf, *rest)\u001b[0m\n\u001b[1;32m    242\u001b[0m leaves, treedef \u001b[38;5;241m=\u001b[39m tree_flatten(tree, is_leaf)\n\u001b[1;32m    243\u001b[0m all_leaves \u001b[38;5;241m=\u001b[39m [leaves] \u001b[38;5;241m+\u001b[39m [treedef\u001b[38;5;241m.\u001b[39mflatten_up_to(r) \u001b[38;5;28;01mfor\u001b[39;00m r \u001b[38;5;129;01min\u001b[39;00m rest]\n\u001b[0;32m--> 244\u001b[0m \u001b[38;5;28;01mreturn\u001b[39;00m \u001b[43mtreedef\u001b[49m\u001b[38;5;241;43m.\u001b[39;49m\u001b[43munflatten\u001b[49m\u001b[43m(\u001b[49m\u001b[43mf\u001b[49m\u001b[43m(\u001b[49m\u001b[38;5;241;43m*\u001b[39;49m\u001b[43mxs\u001b[49m\u001b[43m)\u001b[49m\u001b[43m \u001b[49m\u001b[38;5;28;43;01mfor\u001b[39;49;00m\u001b[43m \u001b[49m\u001b[43mxs\u001b[49m\u001b[43m \u001b[49m\u001b[38;5;129;43;01min\u001b[39;49;00m\u001b[43m \u001b[49m\u001b[38;5;28;43mzip\u001b[39;49m\u001b[43m(\u001b[49m\u001b[38;5;241;43m*\u001b[39;49m\u001b[43mall_leaves\u001b[49m\u001b[43m)\u001b[49m\u001b[43m)\u001b[49m\n",
      "File \u001b[0;32m/opt/conda/lib/python3.10/site-packages/jax/_src/tree_util.py:244\u001b[0m, in \u001b[0;36m<genexpr>\u001b[0;34m(.0)\u001b[0m\n\u001b[1;32m    242\u001b[0m leaves, treedef \u001b[38;5;241m=\u001b[39m tree_flatten(tree, is_leaf)\n\u001b[1;32m    243\u001b[0m all_leaves \u001b[38;5;241m=\u001b[39m [leaves] \u001b[38;5;241m+\u001b[39m [treedef\u001b[38;5;241m.\u001b[39mflatten_up_to(r) \u001b[38;5;28;01mfor\u001b[39;00m r \u001b[38;5;129;01min\u001b[39;00m rest]\n\u001b[0;32m--> 244\u001b[0m \u001b[38;5;28;01mreturn\u001b[39;00m treedef\u001b[38;5;241m.\u001b[39munflatten(\u001b[43mf\u001b[49m\u001b[43m(\u001b[49m\u001b[38;5;241;43m*\u001b[39;49m\u001b[43mxs\u001b[49m\u001b[43m)\u001b[49m \u001b[38;5;28;01mfor\u001b[39;00m xs \u001b[38;5;129;01min\u001b[39;00m \u001b[38;5;28mzip\u001b[39m(\u001b[38;5;241m*\u001b[39mall_leaves))\n",
      "File \u001b[0;32m/opt/conda/lib/python3.10/site-packages/optax/_src/update.py:43\u001b[0m, in \u001b[0;36mapply_updates.<locals>.<lambda>\u001b[0;34m(p, u)\u001b[0m\n\u001b[1;32m     24\u001b[0m \u001b[38;5;28;01mdef\u001b[39;00m \u001b[38;5;21mapply_updates\u001b[39m(params: base\u001b[38;5;241m.\u001b[39mParams, updates: base\u001b[38;5;241m.\u001b[39mUpdates) \u001b[38;5;241m-\u001b[39m\u001b[38;5;241m>\u001b[39m base\u001b[38;5;241m.\u001b[39mParams:\n\u001b[1;32m     25\u001b[0m \u001b[38;5;250m  \u001b[39m\u001b[38;5;124;03m\"\"\"Applies an update to the corresponding parameters.\u001b[39;00m\n\u001b[1;32m     26\u001b[0m \n\u001b[1;32m     27\u001b[0m \u001b[38;5;124;03m  This is a utility functions that applies an update to a set of parameters, and\u001b[39;00m\n\u001b[0;32m   (...)\u001b[0m\n\u001b[1;32m     40\u001b[0m \u001b[38;5;124;03m    Updated parameters, with same structure, shape and type as `params`.\u001b[39;00m\n\u001b[1;32m     41\u001b[0m \u001b[38;5;124;03m  \"\"\"\u001b[39;00m\n\u001b[1;32m     42\u001b[0m   \u001b[38;5;28;01mreturn\u001b[39;00m jax\u001b[38;5;241m.\u001b[39mtree_util\u001b[38;5;241m.\u001b[39mtree_map(\n\u001b[0;32m---> 43\u001b[0m       \u001b[38;5;28;01mlambda\u001b[39;00m p, u: \u001b[43mjnp\u001b[49m\u001b[38;5;241;43m.\u001b[39;49m\u001b[43masarray\u001b[49m\u001b[43m(\u001b[49m\u001b[43mp\u001b[49m\u001b[43m \u001b[49m\u001b[38;5;241;43m+\u001b[39;49m\u001b[43m \u001b[49m\u001b[43mu\u001b[49m\u001b[43m)\u001b[49m\u001b[38;5;241;43m.\u001b[39;49m\u001b[43mastype\u001b[49m\u001b[43m(\u001b[49m\u001b[43mjnp\u001b[49m\u001b[38;5;241;43m.\u001b[39;49m\u001b[43masarray\u001b[49m\u001b[43m(\u001b[49m\u001b[43mp\u001b[49m\u001b[43m)\u001b[49m\u001b[38;5;241;43m.\u001b[39;49m\u001b[43mdtype\u001b[49m\u001b[43m)\u001b[49m,\n\u001b[1;32m     44\u001b[0m       params, updates)\n",
      "File \u001b[0;32m/opt/conda/lib/python3.10/site-packages/jax/_src/numpy/array_methods.py:66\u001b[0m, in \u001b[0;36m_astype\u001b[0;34m(arr, dtype)\u001b[0m\n\u001b[1;32m     64\u001b[0m   dtype \u001b[38;5;241m=\u001b[39m dtypes\u001b[38;5;241m.\u001b[39mcanonicalize_dtype(lax_numpy\u001b[38;5;241m.\u001b[39mfloat_)\n\u001b[1;32m     65\u001b[0m dtypes\u001b[38;5;241m.\u001b[39mcheck_user_dtype_supported(dtype, \u001b[38;5;124m\"\u001b[39m\u001b[38;5;124mastype\u001b[39m\u001b[38;5;124m\"\u001b[39m)\n\u001b[0;32m---> 66\u001b[0m \u001b[38;5;28;01mreturn\u001b[39;00m \u001b[43mlax\u001b[49m\u001b[38;5;241;43m.\u001b[39;49m\u001b[43mconvert_element_type\u001b[49m\u001b[43m(\u001b[49m\u001b[43marr\u001b[49m\u001b[43m,\u001b[49m\u001b[43m \u001b[49m\u001b[43mdtype\u001b[49m\u001b[43m)\u001b[49m\n",
      "File \u001b[0;32m/opt/conda/lib/python3.10/site-packages/jax/_src/lax/lax.py:513\u001b[0m, in \u001b[0;36mconvert_element_type\u001b[0;34m(operand, new_dtype)\u001b[0m\n\u001b[1;32m    498\u001b[0m \u001b[38;5;28;01mdef\u001b[39;00m \u001b[38;5;21mconvert_element_type\u001b[39m(operand: ArrayLike, new_dtype: DTypeLike) \u001b[38;5;241m-\u001b[39m\u001b[38;5;241m>\u001b[39m Array:\n\u001b[1;32m    499\u001b[0m \u001b[38;5;250m  \u001b[39m\u001b[38;5;124;03m\"\"\"Elementwise cast.\u001b[39;00m\n\u001b[1;32m    500\u001b[0m \n\u001b[1;32m    501\u001b[0m \u001b[38;5;124;03m  Wraps XLA's `ConvertElementType\u001b[39;00m\n\u001b[0;32m   (...)\u001b[0m\n\u001b[1;32m    511\u001b[0m \u001b[38;5;124;03m    An array with the same shape as `operand`, cast elementwise to `new_dtype`.\u001b[39;00m\n\u001b[1;32m    512\u001b[0m \u001b[38;5;124;03m  \"\"\"\u001b[39;00m\n\u001b[0;32m--> 513\u001b[0m   \u001b[38;5;28;01mreturn\u001b[39;00m \u001b[43m_convert_element_type\u001b[49m\u001b[43m(\u001b[49m\u001b[43moperand\u001b[49m\u001b[43m,\u001b[49m\u001b[43m \u001b[49m\u001b[43mnew_dtype\u001b[49m\u001b[43m,\u001b[49m\u001b[43m \u001b[49m\u001b[43mweak_type\u001b[49m\u001b[38;5;241;43m=\u001b[39;49m\u001b[38;5;28;43;01mFalse\u001b[39;49;00m\u001b[43m)\u001b[49m\n",
      "File \u001b[0;32m/opt/conda/lib/python3.10/site-packages/jax/_src/lax/lax.py:527\u001b[0m, in \u001b[0;36m_convert_element_type\u001b[0;34m(operand, new_dtype, weak_type)\u001b[0m\n\u001b[1;32m    522\u001b[0m   \u001b[38;5;28;01mreturn\u001b[39;00m convert_element_type_p\u001b[38;5;241m.\u001b[39mbind(operand, new_dtype\u001b[38;5;241m=\u001b[39mnew_dtype,\n\u001b[1;32m    523\u001b[0m                                      weak_type\u001b[38;5;241m=\u001b[39m\u001b[38;5;28mbool\u001b[39m(weak_type))\n\u001b[1;32m    525\u001b[0m \u001b[38;5;66;03m# Don't canonicalize old_dtype because x64 context might cause\u001b[39;00m\n\u001b[1;32m    526\u001b[0m \u001b[38;5;66;03m# un-canonicalized operands to be passed in.\u001b[39;00m\n\u001b[0;32m--> 527\u001b[0m old_dtype \u001b[38;5;241m=\u001b[39m \u001b[43mdtypes\u001b[49m\u001b[38;5;241;43m.\u001b[39;49m\u001b[43mdtype\u001b[49m\u001b[43m(\u001b[49m\u001b[43moperand\u001b[49m\u001b[43m,\u001b[49m\u001b[43m \u001b[49m\u001b[43mcanonicalize\u001b[49m\u001b[38;5;241;43m=\u001b[39;49m\u001b[38;5;28;43;01mFalse\u001b[39;49;00m\u001b[43m)\u001b[49m\n\u001b[1;32m    528\u001b[0m old_weak_type \u001b[38;5;241m=\u001b[39m dtypes\u001b[38;5;241m.\u001b[39mis_weakly_typed(operand)\n\u001b[1;32m    529\u001b[0m \u001b[38;5;28;01mif\u001b[39;00m new_dtype \u001b[38;5;129;01mis\u001b[39;00m \u001b[38;5;28;01mNone\u001b[39;00m:\n",
      "\u001b[0;31mKeyboardInterrupt\u001b[0m: "
     ]
    }
   ],
   "source": [
    "%%time\n",
    "fit_nn()\n",
    "plt.plot(losses)"
   ]
  },
  {
   "cell_type": "code",
   "execution_count": null,
   "id": "880a8c89-753d-490d-a9ea-4a1b611364dc",
   "metadata": {},
   "outputs": [],
   "source": []
  }
 ],
 "metadata": {
  "kernelspec": {
   "display_name": "Python 3 (ipykernel)",
   "language": "python",
   "name": "python3"
  },
  "language_info": {
   "codemirror_mode": {
    "name": "ipython",
    "version": 3
   },
   "file_extension": ".py",
   "mimetype": "text/x-python",
   "name": "python",
   "nbconvert_exporter": "python",
   "pygments_lexer": "ipython3",
   "version": "3.10.11"
  }
 },
 "nbformat": 4,
 "nbformat_minor": 5
}
